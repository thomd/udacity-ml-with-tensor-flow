{
 "cells": [
  {
   "cell_type": "markdown",
   "id": "a6bf31ae-299d-4dca-80f4-ade8d510e48f",
   "metadata": {},
   "source": [
    "# Training and Tuning"
   ]
  },
  {
   "cell_type": "markdown",
   "id": "392b1caf-c150-4918-98ce-e3b4b1d1a869",
   "metadata": {},
   "source": [
    "Oversimplification of a model is called **underfitting**. One characteristic of it is, that it **doesn't do well on the trainign set**. This is an error due to **bias**.\n",
    "\n",
    "Overcomplification of a model is called **overfittimg**. The model is too specific. One characteristic of it is, that it **does well on the trainign set** but **doesn't do well on the testing set**. It tends to memorize it instead of learing its charactersitic.  This is an error due to **variance**."
   ]
  },
  {
   "cell_type": "markdown",
   "id": "7286204a-4390-48ab-87c8-e1bb1935f805",
   "metadata": {},
   "source": [
    "## Model Complexity Graph\n",
    "\n",
    "A model complexity graph helps us to determine the best model between underfitting and overfitting.\n",
    "\n",
    "But in order to create a model complexity graph we need **validation data** as we are **not allowed to use testing data for training!!!**\n",
    "\n",
    "This can be achieved with a third dataset for **Cross Validation**:\n",
    "\n",
    "1. **Training Dataset**: Use it for traing of the model\n",
    "\n",
    "2. **Validaten Dataset**: Use it for makeing devisions (e.g. Model Complexity Graph)\n",
    "\n",
    "3. **Testing Dataset**: Use it for final testing"
   ]
  },
  {
   "cell_type": "code",
   "execution_count": 43,
   "id": "dd113698-401e-4e13-a690-753263f31799",
   "metadata": {},
   "outputs": [
    {
     "data": {
      "image/png": "[encoded data removed]",
      "text/plain": [
       "<Figure size 432x288 with 1 Axes>"
      ]
     },
     "metadata": {
      "needs_background": "light"
     },
     "output_type": "display_data"
    }
   ],
   "source": [
    "import matplotlib.pyplot as plt\n",
    "import seaborn as sns\n",
    "sns.set_context('notebook', font_scale=1)\n",
    "\n",
    "# simulated error from a training\n",
    "cross_validation = [3.2, 1.8, 1.2, 1.3, 1.6, 2.2, 3]\n",
    "training = [3, 1.6, 1, 0.7, 0.5, 0.4, 0.3]\n",
    "\n",
    "sns.lineplot(data=cross_validation, label='Cross Validation')\n",
    "sns.lineplot(data=training, label='Training')\n",
    "plt.xlabel('Model Complexity')\n",
    "plt.ylabel('Error');"
   ]
  },
  {
   "cell_type": "markdown",
   "id": "97cedcc6-d38e-42da-903c-304020f83747",
   "metadata": {},
   "source": [
    "$\\implies$ Best model is at Model Complexitiy = **2**."
   ]
  },
  {
   "cell_type": "markdown",
   "id": "26180500-04a1-4159-a8d9-66a4e94f2694",
   "metadata": {},
   "source": [
    "## Cross Validation\n",
    "\n",
    "In order to **not lose** some **training data** for validation, we can use **K-Fold Cross Validation**."
   ]
  },
  {
   "cell_type": "code",
   "execution_count": 36,
   "id": "5de4b7c3-7f72-49a8-8d9c-10635a3f4951",
   "metadata": {},
   "outputs": [
    {
     "data": {
      "text/plain": [
       "2"
      ]
     },
     "execution_count": 36,
     "metadata": {},
     "output_type": "execute_result"
    }
   ],
   "source": [
    "import numpy as np\n",
    "from sklearn.model_selection import KFold\n",
    "\n",
    "X = np.array([[1, 2], [3, 4], [1, 2], [3, 4]])\n",
    "y = np.array([1, 2, 3, 4])\n",
    "\n",
    "kf = KFold(n_splits=2, shuffle=True)\n",
    "kf.get_n_splits(X)"
   ]
  },
  {
   "cell_type": "code",
   "execution_count": 38,
   "id": "54bd06cd-42d0-48ab-88ca-1a3672c50805",
   "metadata": {},
   "outputs": [
    {
     "name": "stdout",
     "output_type": "stream",
     "text": [
      "TRAIN: [2 3] TEST: [0 1]\n",
      "TRAIN: [0 1] TEST: [2 3]\n"
     ]
    }
   ],
   "source": [
    "for train_index, test_index in kf.split(X):\n",
    "    print(\"TRAIN:\", train_index, \"TEST:\", test_index)\n",
    "    X_train, X_test = X[train_index], X[test_index]\n",
    "    y_train, y_test = y[train_index], y[test_index]"
   ]
  },
  {
   "cell_type": "code",
   "execution_count": null,
   "id": "24d09d50-7ad0-41d8-b03e-83593f1446d0",
   "metadata": {},
   "outputs": [],
   "source": []
  }
 ],
 "metadata": {
  "kernelspec": {
   "display_name": "Python 3 (ipykernel)",
   "language": "python",
   "name": "python3"
  },
  "language_info": {
   "codemirror_mode": {
    "name": "ipython",
    "version": 3
   },
   "file_extension": ".py",
   "mimetype": "text/x-python",
   "name": "python",
   "nbconvert_exporter": "python",
   "pygments_lexer": "ipython3",
   "version": "3.10.2"
  }
 },
 "nbformat": 4,
 "nbformat_minor": 5
}
