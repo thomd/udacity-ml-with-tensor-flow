{
 "cells": [
  {
   "cell_type": "markdown",
   "id": "81e9a0cf-bbea-43a0-97a4-d34c21fa4799",
   "metadata": {},
   "source": [
    "# Naive Bayes\n",
    "\n",
    "One of the **simplest** yet effective algorithm that should be tried to solve the classification problem is Naive Bayes Algorithm. It’s a probabilistic modell which is based on the Bayes’ theorem which is an equation describing the **relationship of conditional probabilities of statistical quantities**.\n",
    "\n",
    "The Naive Bayes algorithm has **hardly any hyperparameters** and is recommended to use first in the event of classification problems. If this does not give satisfactory results, then more complex algorithms should be used."
   ]
  },
  {
   "cell_type": "markdown",
   "id": "91bc3962-2703-434c-ace7-df70e8afd555",
   "metadata": {},
   "source": [
    "## Conditional Probability\n",
    "\n",
    "The probability of $A$ **given we already know** that $B$ has occured, is defined as\n",
    "\n",
    "$$\n",
    "P(A|B) = \\frac{P(A \\cap B)}{P(B)}\n",
    "$$\n",
    "\n",
    "Only the _portion_ of $A$ that is contained in $B$ could occur, hence the original probability of $A \\cap B$ must be recalculated (or **scaled**) to reflect the fact that the _new_ sample space is $B$.\n",
    "\n",
    "In a slightly redundandt way, the conditional probability can also be written as\n",
    "\n",
    "$$\n",
    "P(A|B) = P(A \\cap B\\,|B)\n",
    "$$\n",
    "\n",
    "which makes it easier to see how we calculate the probability for an event $A$: Writing $P(A \\cap B\\,|B)$ makes it obvious that we want the probability that an event $A \\cap B$ happens, **scaled by the knowledge we already have** about the event $B$:\n",
    "\n",
    "$$\n",
    "P({\\color{orange}{A \\cap B}}\\,|{\\color{purple}B}) = \\frac{P({\\color{orange}{A \\cap B}})}{P({\\color{purple}B})}\n",
    "$$"
   ]
  },
  {
   "cell_type": "markdown",
   "id": "3b6b63f1-18b5-424e-bdc2-6cb021576a72",
   "metadata": {},
   "source": [
    "## Bayes Theorem\n",
    "\n",
    "See also [Bayes' Theorem with Lego](https://www.countbayesie.com/blog/2015/2/18/bayes-theorem-with-lego).\n",
    "\n",
    "Bayes theorem describes the probability of an event, based on **prior knowledge** that might be related to the event. For example, if the risk of health problems is known to increase with age, Bayes theorem allows the risk to an individual of a known age to be assessed more accurately than simply assuming that the individual is typical of the population as a whole.\n",
    "\n",
    "$$\n",
    "\\begin{aligned}\n",
    "P(A|B) &= \\frac{P(B|A) \\cdot P(A)}{P(B)} \\\\[10pt]\n",
    "\\text{Posterior} &= \\, \\frac{\\text{Likelihood} \\cdot \\text{Prior}}{\\text{Evidence}}\n",
    "\\end{aligned}\n",
    "$$\n",
    "\n",
    "with\n",
    "\n",
    "* the conditional probability $P(A|B)$ of event $A$ occurring given that $B$ is true. This is also called **posterior probability**.\n",
    "* the conditional probability $P(B|A)$ of event $B$ occurring given that $A$ is true. This is also called the **likelyhood**.\n",
    "* the probability $P(A)$. This is also called the **prior probability**.\n",
    "* the probability $P(B)$. This is also called the **evidence** which **normalizes** our probabilities.\n",
    "\n",
    "If we are only interested in **proportions** of conditional probabilities, we can also write\n",
    "\n",
    "$$\n",
    "\\begin{aligned}\n",
    "P(A|B) &\\propto P(B|A) \\cdot P(A) \\\\[10pt]\n",
    "\\text{Posterior} &\\propto \\, \\text{Likelihood} \\cdot \\text{Prior}\n",
    "\\end{aligned}\n",
    "$$\n",
    "\n",
    "### Alternative Form\n",
    "\n",
    "Another form of Bayes theorem for **two competing statements** or hypotheses is\n",
    "\n",
    "$$\n",
    "P(A|B) = \\frac{P(B|A) \\cdot P(A)}{P(B|A) \\cdot P(A) + P(B|\\neg A) \\cdot P(\\neg A)}\n",
    "$$\n",
    "\n",
    "For proposition $A$ and evidence or background $B$,\n",
    "\n",
    "* $P(A)$ is the prior probability, the initial degree of belief in $A$.\n",
    "* $P(\\neg A)$ is the corresponding initial degree of belief in not $A$, that $A$ is false, where $P(\\neg A) = 1 - P(A)$\n",
    "* $P(B|A)$ is the conditional probability or likelihood, the degree of belief in $B$ given that proposition $A$ is true.\n",
    "* $P(B|\\neg A)$ is the conditional probability or likelihood, the degree of belief in $B$ given that proposition $A$ is false.\n",
    "* $P(A|B)$ is the posterior probability, the probability of $A$ after taking into account $B$."
   ]
  },
  {
   "cell_type": "markdown",
   "id": "3a59449c-b33e-448d-a13e-9336c2ccb5e7",
   "metadata": {},
   "source": [
    "### Example\n",
    "\n",
    "#### Problem\n",
    "\n",
    "Knowing a medical test having a **99% accuracy** (for true positives and true negatives). Already knowing that **1 out of 10000 people are sick**, what is the probability of an individual being sick, given that this individual got a positive test result?\n",
    "\n",
    "#### Solution\n",
    "\n",
    "![false-positives](images/bayes-theorem.svg)\n",
    "\n",
    "What we knew before we knew the test is positive, is the **prior probability** $P(sick) = 0.0001$ and $P(healthy) = 0.9999$. \n",
    "\n",
    "As only the **positive tests** actually occured, we scale the likelyhood and the prior with the **evidence** $P(positive)$:\n",
    "\n",
    "$$\n",
    "\\begin{align}\n",
    "P(positive) &= P(sick) \\cdot P(positive|sick) + P(healthy) \\cdot P(positive|healthy) \\\\[10pt]\n",
    "&= P(sick) \\cdot \\text{Sensitivity} + (1 - P(sick)) \\cdot (1 - \\text{Specificity})\n",
    "\\end{align}\n",
    "$$"
   ]
  },
  {
   "cell_type": "code",
   "execution_count": 15,
   "id": "d8ec1a0c-b13e-4e49-840b-7903cbbd2a2a",
   "metadata": {},
   "outputs": [
    {
     "name": "stdout",
     "output_type": "stream",
     "text": [
      "The probability of getting a positive test result P(positive) is: 0.0101\n"
     ]
    }
   ],
   "source": [
    "# P(sick)\n",
    "p_sick = 0.0001\n",
    "\n",
    "# P(~sick) or P(healthy)\n",
    "p_healthy = 1 - p_sick\n",
    "\n",
    "# Sensitivity or P(positive|sick)\n",
    "p_positive_sick = 0.99\n",
    "\n",
    "# Specificity or P(positive|healthy)\n",
    "p_positive_healthy = 1 - p_positive_sick\n",
    "\n",
    "# P(positive)\n",
    "p_positive = (p_sick * p_positive_sick) + (p_healthy * p_positive_healthy)\n",
    "\n",
    "print(f'The probability of getting a positive test result P(positive) is: {p_positive:.4f}')"
   ]
  },
  {
   "cell_type": "markdown",
   "id": "8dd9d276-ce68-45d2-9613-aab2c44cb9af",
   "metadata": {},
   "source": [
    "The **posterior probability**, what we infered after we knew that the test is positive, is:\n",
    "\n",
    "$$\n",
    "\\begin{align}\n",
    "P(sick|positive) &= \\frac{P(sick) \\cdot P(positive|sick)}{P(positive)} \\\\[10pt]\n",
    "&= \\frac{P(sick) \\cdot P(positive|sick)}{P(sick) \\cdot P(positive|sick) + P(healthy) \\cdot P(positive|healthy)} \\\\[10pt]\n",
    "&= \\frac{0.0001 \\cdot 0.99}{0.0001 \\cdot 0.99 + 0.9999 \\cdot 0.01} \\\\[10pt]\n",
    "&= 0.0098 \\approx 1 \\%\n",
    "\\end{align}\n",
    "$$"
   ]
  },
  {
   "cell_type": "code",
   "execution_count": 19,
   "id": "d39451fd-8ad0-45be-9ee6-a79cc1496d82",
   "metadata": {},
   "outputs": [
    {
     "name": "stdout",
     "output_type": "stream",
     "text": [
      "The posterior probability of being sick having a positive test result is: 0.0098\n",
      "The posterior probability of being healthy having a positive test result is: 0.9902\n"
     ]
    }
   ],
   "source": [
    "p_sick_positive = p_sick * p_positive_sick / p_positive\n",
    "print(f'The posterior probability of being sick having a positive test result is: {p_sick_positive:.4f}')\n",
    "\n",
    "p_healthy_positive = p_healthy * p_positive_healthy / p_positive\n",
    "print(f'The posterior probability of being healthy having a positive test result is: {p_healthy_positive:.4f}')"
   ]
  },
  {
   "cell_type": "markdown",
   "id": "1607d412-7c93-4af0-9385-164b3c158b77",
   "metadata": {},
   "source": [
    "The sum of our posteriors will always equal `1`."
   ]
  },
  {
   "cell_type": "code",
   "execution_count": 20,
   "id": "476f3826-5323-4753-9959-dd5a27655f31",
   "metadata": {},
   "outputs": [
    {
     "name": "stdout",
     "output_type": "stream",
     "text": [
      "1.0000\n"
     ]
    }
   ],
   "source": [
    "print(f'{(p_sick_positive + p_healthy_positive):.4f}')"
   ]
  },
  {
   "cell_type": "markdown",
   "id": "4c0ff1e2-66dd-42f0-956b-638fd7c3649e",
   "metadata": {
    "tags": []
   },
   "source": [
    "## Naive Bayes\n",
    "\n",
    "Lets consider a spam classifier with a **class variable** $y$ ($spam=1$, $ham=0$) and **feature vectors** $x_1, \\dots, x_n$ (the individual words of a message).\n",
    "\n",
    "The probability of a message being spam or ham given the words $x_1, \\dots, x_n$ calculates then:\n",
    "\n",
    "$$\n",
    "P(y \\, | \\, x_1, \\dots, x_n) = \\frac{P(x_1, \\dots, x_n \\, | \\, y) \\cdot P(y)}{P(x_1, \\dots, x_n)}\n",
    "$$\n",
    "\n",
    "or \n",
    "\n",
    "$$\n",
    "P(y \\, | \\, x_1, \\dots, x_n) \\propto P(x_1, \\dots, x_n \\, | \\, y) \\cdot P(y)\n",
    "$$\n",
    "\n",
    "with\n",
    "\n",
    "$$\n",
    "\\begin{align}\n",
    "P(x_1, \\dots, x_n \\, | \\, y) &= P(x_1 \\cap x_2 \\cap \\ldots \\cap x_n \\, | \\, y) \\\\\n",
    "&= P(x_1|y) \\cdot P(x_2|y) \\cdot \\ldots \\cdot P(x_n|y)\n",
    "\\end{align}\n",
    "$$\n",
    "\n",
    "Naive Bayes is considered **naive**, because it treats all words of a language as a **bag of words** regardless of the order or context of the words. Ignoring relationships among words has a **high bias**, but because it works well in practice, it has a **low variance**.\n",
    "\n",
    "So, the **naive** bit of the theorem is when it considers each **feature** to be **independent** of each other which may not always be the case.\n",
    "\n",
    "The probability that a word $x_i$ occurs in a spam message is the number $n_i$ of the words $x_i$ in all spam messages related to the total number of words $N$ of all spam messages. We add a value $\\alpha$ to avoid having a probability of $0$ for a word:\n",
    "\n",
    "$$\n",
    "P(x_i|y) = \\frac{n_i}{N} + \\alpha\n",
    "$$\n",
    "\n",
    "Typically, we set $\\alpha = 1$.\n",
    "\n"
   ]
  },
  {
   "cell_type": "markdown",
   "id": "766adec6-21f7-4fc1-8fb9-365c55c993e0",
   "metadata": {},
   "source": [
    "### Example\n",
    "\n",
    "The initial guess that we observe a spam message $P(spam)$ is called a **prior probability**. This guess can be any probability we want, but a common guess is estimated from the training data.\n",
    "\n",
    "Now we multiply the initial guess with the probabilities that the words $w_i$ occur in a normal message: $P(spam) \\cdot P(w_i|spam) \\cdot \\ldots \\cdot P(w_j|spam)$. These probabilities are derived from test-data.\n",
    "\n",
    "This is proportional to the **probability that a message is spam** given the words $w_1, \\dots, w_n$, hence can be considered as a **score**.\n",
    "\n",
    "If we do the same for non-spam messages, we get two scores which tell us whether a message is spam or not.\n",
    "\n"
   ]
  },
  {
   "cell_type": "markdown",
   "id": "17a6ae4a-e031-4b72-9816-561a85e39c9d",
   "metadata": {},
   "source": [
    "## Naive Bayes in SciKit-Learn"
   ]
  },
  {
   "cell_type": "code",
   "execution_count": 21,
   "id": "bd2cc25a-c0ac-4a87-b8d4-ca2d90c6343e",
   "metadata": {},
   "outputs": [],
   "source": [
    "from sklearn.naive_bayes import GaussianNB           # Gaussian Naive Bayes:    continuous value and are not discrete\n",
    "from sklearn.naive_bayes import BernoulliNB          # Bernoulli Naive Bayes:   Multinomial Naive Bayes for boolean classes (e.g. spam/ham)\n",
    "from sklearn.naive_bayes import MultinomialNB        # Multinomial Naive Bayes: probability of observing counts among a number of categories"
   ]
  },
  {
   "cell_type": "markdown",
   "id": "a529d037-bc2e-4bfd-a017-964d15a9cc71",
   "metadata": {},
   "source": [
    "### Naive Bayes Spam Classifier"
   ]
  },
  {
   "cell_type": "code",
   "execution_count": 25,
   "id": "6c6630f3-7b80-48f5-b294-9e358a8218d0",
   "metadata": {},
   "outputs": [
    {
     "name": "stdout",
     "output_type": "stream",
     "text": [
      "Accuracy score: 0.989\n",
      "Precision score: 0.972\n",
      "Recall score: 0.941\n",
      "F1 score: 0.956\n"
     ]
    }
   ],
   "source": [
    "import pandas as pd\n",
    "from sklearn.model_selection import train_test_split\n",
    "from sklearn.naive_bayes import MultinomialNB\n",
    "from sklearn.metrics import accuracy_score, precision_score, recall_score, f1_score\n",
    "from sklearn.feature_extraction.text import CountVectorizer\n",
    "\n",
    "df = pd.read_table('data/sms.txt', header=None, names=['label', 'sms_message'])\n",
    "df['label'] = df.label.map(({'ham': 0, 'spam': 1}))\n",
    "\n",
    "X_train, X_test, y_train, y_test = train_test_split(df['sms_message'], df['label'], random_state=1)\n",
    "\n",
    "count_vector = CountVectorizer()\n",
    "training_data = count_vector.fit_transform(X_train)    # fit the training data and then return the matrix\n",
    "testing_data = count_vector.transform(X_test)          # transform testing data and return the matrix (we are not fitting the testing data)\n",
    "\n",
    "naive_bayes = MultinomialNB()\n",
    "naive_bayes.fit(training_data, y_train)\n",
    "predictions = naive_bayes.predict(testing_data)\n",
    "\n",
    "print(f'Accuracy score: {accuracy_score(y_test, predictions):.3f}')\n",
    "print(f'Precision score: {precision_score(y_test, predictions):.3f}')\n",
    "print(f'Recall score: {recall_score(y_test, predictions):.3f}')\n",
    "print(f'F1 score: {f1_score(y_test, predictions):.3f}')"
   ]
  },
  {
   "cell_type": "markdown",
   "id": "0d6aef01-ec92-4131-9f55-f7f782081b09",
   "metadata": {},
   "source": [
    "### Evaluating the Model\n",
    "\n",
    "There are several evaluation metrics:\n",
    "\n",
    "* **Accuracy** measures how often the classifier makes the correct prediction. It’s the ratio of the number of correct predictions to the total number of predictions.\n",
    "\n",
    "For classification problems that are **skewed** in their **classification distributions**, for example if we had a 100 text messages and only 2 were spam, accuracy by itself is not a very good metric. We could classify 90 messages as not spam(including the 2 that were spam but we classify them as not spam, hence they would be false negatives) and 10 as spam(all 10 false positives) and still get a reasonably good accuracy score. For such cases, precision and recall come in very handy. \n",
    "\n",
    "* **Precision** tells us what proportion of messages we classified as spam, actually were spam. \n",
    "\n",
    "It is the ratio \n",
    "\n",
    "$$\n",
    "\\frac{\\text{True Positives}}{\\text{True Positives} + \\text{False Positives}}\n",
    "$$\n",
    "\n",
    "* **Recall (Sensitivity)** tells us what proportion of messages that actually were spam were classified by us as spam.\n",
    "\n",
    "It is a ratio\n",
    "\n",
    "$$\n",
    "\\frac{\\text{True Positives}}{\\text{True Positives} + \\text{False Negatives}}\n",
    "$$\n",
    "\n",
    "These two metrics can be combined to get the **F1 score**, which is weighted average of the precision and recall scores. This score can range from `0` to `1`, with `1` being the best possible **F1 score**."
   ]
  },
  {
   "cell_type": "code",
   "execution_count": 26,
   "id": "260551a2-3170-4a65-97ed-36c8a3bb2ce5",
   "metadata": {},
   "outputs": [
    {
     "data": {
      "text/plain": [
       "array([[1203,    5],\n",
       "       [  11,  174]])"
      ]
     },
     "execution_count": 26,
     "metadata": {},
     "output_type": "execute_result"
    }
   ],
   "source": [
    "from sklearn.metrics import confusion_matrix\n",
    "\n",
    "cfm = confusion_matrix(y_test, predictions)\n",
    "cfm"
   ]
  },
  {
   "cell_type": "code",
   "execution_count": 31,
   "id": "8bccce9c-7e0c-487a-86ed-028ba78bb3eb",
   "metadata": {},
   "outputs": [
    {
     "data": {
      "image/png": "[encoded data removed]",
      "text/plain": [
       "<Figure size 432x288 with 2 Axes>"
      ]
     },
     "metadata": {
      "needs_background": "light"
     },
     "output_type": "display_data"
    }
   ],
   "source": [
    "import seaborn as sns\n",
    "import numpy as np\n",
    "\n",
    "names = ['True Negative', 'False Positive', 'False Negative', 'True Positive']\n",
    "counts = ['{0:0.0f}'.format(value) for value in cfm.flatten()]\n",
    "percentages = ['{0:.2%}'.format(value) for value in cfm.flatten() / np.sum(cfm)]\n",
    "labels = [f'{v1}\\n\\n{v2}\\n{v3}' for v1, v2, v3 in zip(names, counts, percentages)]\n",
    "labels = np.asarray(labels).reshape(2,2)\n",
    "sns.heatmap(cfm, annot=labels, fmt='', cmap='Blues');"
   ]
  },
  {
   "cell_type": "code",
   "execution_count": null,
   "id": "11c72f58-c6e8-4892-8017-30d69ff125b6",
   "metadata": {},
   "outputs": [],
   "source": []
  }
 ],
 "metadata": {
  "kernelspec": {
   "display_name": "Python 3 (ipykernel)",
   "language": "python",
   "name": "python3"
  },
  "language_info": {
   "codemirror_mode": {
    "name": "ipython",
    "version": 3
   },
   "file_extension": ".py",
   "mimetype": "text/x-python",
   "name": "python",
   "nbconvert_exporter": "python",
   "pygments_lexer": "ipython3",
   "version": "3.10.2"
  }
 },
 "nbformat": 4,
 "nbformat_minor": 5
}
