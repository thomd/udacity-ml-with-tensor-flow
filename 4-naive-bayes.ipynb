{
 "cells": [
  {
   "cell_type": "markdown",
   "id": "81e9a0cf-bbea-43a0-97a4-d34c21fa4799",
   "metadata": {},
   "source": [
    "# Naive Bayes\n",
    "\n",
    "One of the **simplest** yet effective algorithm that should be tried to solve the classification problem is Naive Bayes Algorithm. It’s a probabilistic modell which is based on the Bayes’ theorem which is an equation describing the **relationship of conditional probabilities of statistical quantities**.\n",
    "\n",
    "The Naive Bayes algorithm has **hardly any hyperparameters** and is recommended to use first in the event of classification problems. If this does not give satisfactory results, then more complex algorithms should be used."
   ]
  },
  {
   "cell_type": "markdown",
   "id": "91bc3962-2703-434c-ace7-df70e8afd555",
   "metadata": {},
   "source": [
    "### Conditional Probability\n",
    "\n",
    "The probability of $A$ **given we already know** that $B$ has occured, is defined as\n",
    "\n",
    "$$\n",
    "P(A|B) = \\frac{P(A \\cap B)}{P(B)}\n",
    "$$\n",
    "\n",
    "Only the _portion_ of $A$ that is contained in $B$ could occur, hence the original probability of $A \\cap B$ must be recalculated (or **scaled**) to reflect the fact that the _new_ sample space is $B$.\n",
    "\n",
    "In a slightly redundandt way, the conditional probability can also be written as\n",
    "\n",
    "$$\n",
    "P(A|B) = P(A \\cap B\\,|B)\n",
    "$$\n",
    "\n",
    "which makes it easier to see how we calculate the probability for $A$: Writing $P(A \\cap B\\,|B)$ makes it obvious that we want the probability that an event $A \\cap B$ happens, scaled by the knowledge we already have about the event $B$:\n",
    "\n",
    "$$\n",
    "P({\\color{red}{A \\cap B}}\\,|{\\color{blue}B}) = \\frac{P({\\color{red}{A \\cap B}})}{P({\\color{blue}B})}\n",
    "$$\n"
   ]
  },
  {
   "cell_type": "markdown",
   "id": "3b6b63f1-18b5-424e-bdc2-6cb021576a72",
   "metadata": {},
   "source": [
    "### Bayes Theorem\n",
    "\n",
    "$$\n",
    "P(A|B) = \\frac{P(B|A) \\; P(A)}{P(B)}\n",
    "$$"
   ]
  },
  {
   "cell_type": "markdown",
   "id": "5c77a7f5-f260-4efe-8ae6-3278a645b947",
   "metadata": {},
   "source": [
    "### Example\n",
    "\n"
   ]
  },
  {
   "cell_type": "code",
   "execution_count": null,
   "id": "c4f6d7a7-7000-4cf5-9b35-f0748eae8a89",
   "metadata": {},
   "outputs": [],
   "source": []
  }
 ],
 "metadata": {
  "kernelspec": {
   "display_name": "Python 3 (ipykernel)",
   "language": "python",
   "name": "python3"
  },
  "language_info": {
   "codemirror_mode": {
    "name": "ipython",
    "version": 3
   },
   "file_extension": ".py",
   "mimetype": "text/x-python",
   "name": "python",
   "nbconvert_exporter": "python",
   "pygments_lexer": "ipython3",
   "version": "3.9.7"
  }
 },
 "nbformat": 4,
 "nbformat_minor": 5
}
