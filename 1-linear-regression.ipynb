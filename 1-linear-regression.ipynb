{
 "cells": [
  {
   "cell_type": "markdown",
   "id": "bb75fd60-850a-4b33-93ae-b400e3d7f95f",
   "metadata": {},
   "source": [
    "# 1. Linear Regression\n",
    "\n",
    "Linear regression comes with a set of implicit assumptions:\n",
    "\n",
    "* Linear regression works best when the **data is linear**\n",
    "* Linear regression is **sensitive to outliers**"
   ]
  },
  {
   "cell_type": "markdown",
   "id": "2cb39639-470c-4025-81d5-5e2f103e0560",
   "metadata": {},
   "source": [
    "## Gradient Descent\n",
    "\n",
    "Given a **prediction**\n",
    "\n",
    "$$\n",
    "\\hat{y} = w_1 x + w_0\n",
    "$$\n",
    "\n",
    "and a **loss function** MAE or MSE.\n",
    "\n",
    "The **mean absolute error** (MAE) is calculated as:\n",
    "\n",
    "$$\n",
    "\\text{Error} = \\text{E}(w_1, w_0) = \\frac{1}{m} \\sum_{i=1}^m |y_i - \\hat{y}_i|\n",
    "$$\n",
    "\n",
    "The **mean squared error** (MSE) is calculated as:\n",
    "\n",
    "$$\n",
    "\\text{Error} = \\text{E}(w_1, w_0) = \\frac{1}{2m} \\sum_{i=1}^m (y_i - \\hat{y}_i)^2\n",
    "$$\n",
    "\n",
    "The **residual sum of squares** (RSS) is calculated as:\n",
    "\n",
    "$$\n",
    "\\text{Error} = \\text{E}(w_1, w_0) = \\sum_{i=1}^m (y_i - \\hat{y}_i)^2\n",
    "$$\n",
    "\n",
    "with $m$ being the number of observations.\n",
    "\n",
    "Then the **gradient descent step** calculates as\n",
    "\n",
    "$$\n",
    "w_i \\to w_i + \\alpha \\cdot \\frac{\\partial \\, \\text{Error}}{\\partial \\, w_i}\n",
    "$$\n",
    "\n",
    "with $\\alpha$ being the learning rate.\n",
    "\n",
    "For **MSE** as **loss function** this is:\n",
    "\n",
    "$$\n",
    "\\begin{aligned}\n",
    "\\frac{\\partial \\, \\text{Error}}{\\partial w_1} &= \\frac{\\partial \\, \\text{Error}}{\\partial \\hat{y}} \\frac{\\partial \\hat{y}}{\\partial w_1} =  - \\, \\frac{1}{m} \\sum_{i=1}^{m} (y - \\hat{y}) \\cdot x \\\\\n",
    "\\frac{\\partial \\, \\text{Error}}{\\partial w_0} &= \\frac{\\partial \\, \\text{Error}}{\\partial \\hat{y}} \\frac{\\partial \\hat{y}}{\\partial w_0} =  - \\, \\frac{1}{m} \\sum_{i=1}^{m} (y - \\hat{y})\n",
    "\\end{aligned}\n",
    "$$"
   ]
  },
  {
   "cell_type": "markdown",
   "id": "3a1f4fff-33a1-44d7-860b-85e9f7c2707c",
   "metadata": {},
   "source": [
    "### Types of Gradient Descent\n",
    "\n",
    "* **Stochastic Gradient Descent**: calculate loss and update weights for one point ($m = 1$), then do the same for the next point.\n",
    "\n",
    "* **Mini-batch Gradient Descent** split data into many small batches ($m > 1$). For each batch, calculate the sum of the losses and update the weights.\n",
    "\n",
    "* **Batch Gradient Descent**: calculate losses for all points ($m = M$), add them and update the weights."
   ]
  },
  {
   "cell_type": "markdown",
   "id": "392bbbcc-2aad-4e15-90bc-975334580872",
   "metadata": {},
   "source": [
    "### Implementation of Gradient Descent"
   ]
  },
  {
   "cell_type": "code",
   "execution_count": 1,
   "id": "6b560c11-e5f6-49fc-a21a-729880b7779a",
   "metadata": {},
   "outputs": [],
   "source": [
    "import numpy as np\n",
    "import matplotlib.pyplot as plt"
   ]
  },
  {
   "cell_type": "code",
   "execution_count": 2,
   "id": "8fd5f5d1-6999-4fef-8612-ce5826ce3a2b",
   "metadata": {},
   "outputs": [
    {
     "name": "stdout",
     "output_type": "stream",
     "text": [
      "X is a matrix with shape (100, 1). This allows to have multiple features\n",
      "y is a vector with shape (100,)\n"
     ]
    }
   ],
   "source": [
    "data = np.loadtxt('data/linear-regression-data.csv', delimiter = ',')\n",
    "X = data[:, :-1]\n",
    "y = data[:, -1]\n",
    "\n",
    "print(f'X is a matrix with shape {X.shape}. This allows to have multiple features')\n",
    "print(f'y is a vector with shape {y.shape}')"
   ]
  },
  {
   "cell_type": "code",
   "execution_count": 17,
   "id": "a4dc0fb0-2bfa-4efc-96e2-53fcdb2cc1bd",
   "metadata": {},
   "outputs": [],
   "source": [
    "def plot(X, y, regression_coef, errors, title):\n",
    "    plt.figure(figsize=(15, 4.8))\n",
    "    plt.subplot(1,2,1)\n",
    "    X_min = X.min()\n",
    "    X_max = X.max()\n",
    "    counter = len(regression_coef)\n",
    "    for W, b in regression_coef:\n",
    "        counter -= 1\n",
    "        color = [1 - 0.92 ** counter for _ in range(3)]\n",
    "        plt.plot([X_min, X_max],[X_min * W + b, X_max * W + b], color = color)\n",
    "    plt.title(title)\n",
    "    plt.xlabel('X')\n",
    "    plt.ylabel('y')\n",
    "    plt.scatter(X, y, zorder = 3)\n",
    "    plt.subplot(1,2,2)\n",
    "    plt.title('Error')\n",
    "    plt.xlabel('Iteration')\n",
    "    plt.ylabel('Error')\n",
    "    plt.plot(errors)"
   ]
  },
  {
   "cell_type": "code",
   "execution_count": 49,
   "id": "ffa98ae8-38ac-49e0-aa77-5ebb9ccc4791",
   "metadata": {},
   "outputs": [],
   "source": [
    "np.random.seed(42)\n",
    "learn_rate = 0.005\n",
    "num_iter = 25\n",
    "\n",
    "def stochasticGradientDescent(X, y):\n",
    "    errors = []\n",
    "    W = np.zeros(X.shape[1])\n",
    "    b = 0\n",
    "    regression_coef = [np.hstack((W,b))]\n",
    "\n",
    "    for _ in range(num_iter):\n",
    "        W_ = 0\n",
    "        b_ = 0\n",
    "        errs = []\n",
    "        for i in range(X.shape[0]):\n",
    "            y_pred = X[i] * W + b\n",
    "            error = y[i] - y_pred\n",
    "            errs.append(error)\n",
    "            W_ += learn_rate * error * X[i]\n",
    "            b_ += learn_rate * error\n",
    "        errors.append(np.array(errs).mean())\n",
    "        W = W + W_\n",
    "        b = b + b_\n",
    "        regression_coef.append(np.hstack((W, b)))\n",
    "    \n",
    "    return regression_coef, errors\n",
    "\n",
    "def miniBatchGradientDescent(X, y, batch_size=20):\n",
    "    errors = []\n",
    "    W = np.zeros(X.shape[1])\n",
    "    b = 0\n",
    "    regression_coef = [np.hstack((W,b))]\n",
    "\n",
    "    for _ in range(num_iter):\n",
    "        batch = np.random.choice(range(X.shape[0]), batch_size)    # create a random mini-batch\n",
    "        X_batch = X[batch,:]\n",
    "        y_batch = y[batch]\n",
    "        y_pred = np.matmul(X_batch, W) + b\n",
    "        error = y_batch - y_pred\n",
    "        errors.append(error.mean())\n",
    "        W = W + learn_rate * np.matmul(error, X_batch)\n",
    "        b = b + learn_rate * np.sum(error)\n",
    "        regression_coef.append(np.hstack((W, b)))\n",
    "    \n",
    "    return regression_coef, errors\n",
    "\n",
    "def batchGradientDescent(X, y):\n",
    "    errors = []\n",
    "    W = np.zeros(X.shape[1])\n",
    "    b = 0\n",
    "    regression_coef = [np.hstack((W,b))]\n",
    "\n",
    "    for _ in range(num_iter):\n",
    "        y_pred = np.matmul(X, W) + b\n",
    "        error = y - y_pred\n",
    "        errors.append(error.mean())\n",
    "        W = W + learn_rate * np.matmul(error, X)\n",
    "        b = b + learn_rate * np.sum(error)\n",
    "        regression_coef.append(np.hstack((W, b)))\n",
    "    \n",
    "    return regression_coef, errors"
   ]
  },
  {
   "cell_type": "code",
   "execution_count": 58,
   "id": "7494d6a2-7cc7-4e1e-8c9e-59d9c6125de0",
   "metadata": {},
   "outputs": [
    {
     "data": {
      "image/png": "[encoded data removed]",
      "text/plain": [
       "<Figure size 1080x345.6 with 2 Axes>"
      ]
     },
     "metadata": {
      "needs_background": "light"
     },
     "output_type": "display_data"
    }
   ],
   "source": [
    "regression_coef, errors = stochasticGradientDescent(X, y)\n",
    "plot(X, y, regression_coef, errors, 'Stochastic Gradient Descent')"
   ]
  },
  {
   "cell_type": "code",
   "execution_count": 61,
   "id": "f15a9752-1c00-443d-b872-207189b95cf3",
   "metadata": {},
   "outputs": [
    {
     "data": {
      "image/png": "[encoded data removed]",
      "text/plain": [
       "<Figure size 1080x345.6 with 2 Axes>"
      ]
     },
     "metadata": {
      "needs_background": "light"
     },
     "output_type": "display_data"
    }
   ],
   "source": [
    "regression_coef, errors = miniBatchGradientDescent(X, y, batch_size=25)\n",
    "plot(X, y, regression_coef, errors, 'Mini Batch Gradient Descent')"
   ]
  },
  {
   "cell_type": "code",
   "execution_count": 56,
   "id": "7ba01070-347e-436a-bd89-9fd26181f4c5",
   "metadata": {},
   "outputs": [
    {
     "data": {
      "image/png": "[encoded data removed]",
      "text/plain": [
       "<Figure size 1080x345.6 with 2 Axes>"
      ]
     },
     "metadata": {
      "needs_background": "light"
     },
     "output_type": "display_data"
    }
   ],
   "source": [
    "regression_coef, errors = batchGradientDescent(X, y)\n",
    "plot(X, y, regression_coef, errors, 'Batch Gradient Descent')"
   ]
  },
  {
   "cell_type": "markdown",
   "id": "3599a0ca-defe-4066-bac9-40044e2cfdcb",
   "metadata": {},
   "source": [
    "## Linear Regression with SciKit-Learn"
   ]
  },
  {
   "cell_type": "code",
   "execution_count": 8,
   "id": "517f1501-104f-4d22-86ac-dc0b49d4522d",
   "metadata": {},
   "outputs": [
    {
     "data": {
      "text/html": [
       "<div>\n",
       "<style scoped>\n",
       "    .dataframe tbody tr th:only-of-type {\n",
       "        vertical-align: middle;\n",
       "    }\n",
       "\n",
       "    .dataframe tbody tr th {\n",
       "        vertical-align: top;\n",
       "    }\n",
       "\n",
       "    .dataframe thead th {\n",
       "        text-align: right;\n",
       "    }\n",
       "</style>\n",
       "<table border=\"1\" class=\"dataframe\">\n",
       "  <thead>\n",
       "    <tr style=\"text-align: right;\">\n",
       "      <th></th>\n",
       "      <th>Country</th>\n",
       "      <th>Life expectancy</th>\n",
       "      <th>BMI</th>\n",
       "    </tr>\n",
       "  </thead>\n",
       "  <tbody>\n",
       "    <tr>\n",
       "      <th>0</th>\n",
       "      <td>Afghanistan</td>\n",
       "      <td>52.8</td>\n",
       "      <td>20.62058</td>\n",
       "    </tr>\n",
       "    <tr>\n",
       "      <th>1</th>\n",
       "      <td>Albania</td>\n",
       "      <td>76.8</td>\n",
       "      <td>26.44657</td>\n",
       "    </tr>\n",
       "    <tr>\n",
       "      <th>2</th>\n",
       "      <td>Algeria</td>\n",
       "      <td>75.5</td>\n",
       "      <td>24.59620</td>\n",
       "    </tr>\n",
       "    <tr>\n",
       "      <th>3</th>\n",
       "      <td>Andorra</td>\n",
       "      <td>84.6</td>\n",
       "      <td>27.63048</td>\n",
       "    </tr>\n",
       "    <tr>\n",
       "      <th>4</th>\n",
       "      <td>Angola</td>\n",
       "      <td>56.7</td>\n",
       "      <td>22.25083</td>\n",
       "    </tr>\n",
       "    <tr>\n",
       "      <th>...</th>\n",
       "      <td>...</td>\n",
       "      <td>...</td>\n",
       "      <td>...</td>\n",
       "    </tr>\n",
       "    <tr>\n",
       "      <th>158</th>\n",
       "      <td>Vanuatu</td>\n",
       "      <td>63.4</td>\n",
       "      <td>26.78926</td>\n",
       "    </tr>\n",
       "    <tr>\n",
       "      <th>159</th>\n",
       "      <td>West Bank and Gaza</td>\n",
       "      <td>74.1</td>\n",
       "      <td>26.57750</td>\n",
       "    </tr>\n",
       "    <tr>\n",
       "      <th>160</th>\n",
       "      <td>Vietnam</td>\n",
       "      <td>74.1</td>\n",
       "      <td>20.91630</td>\n",
       "    </tr>\n",
       "    <tr>\n",
       "      <th>161</th>\n",
       "      <td>Zambia</td>\n",
       "      <td>51.1</td>\n",
       "      <td>20.68321</td>\n",
       "    </tr>\n",
       "    <tr>\n",
       "      <th>162</th>\n",
       "      <td>Zimbabwe</td>\n",
       "      <td>47.3</td>\n",
       "      <td>22.02660</td>\n",
       "    </tr>\n",
       "  </tbody>\n",
       "</table>\n",
       "<p>163 rows × 3 columns</p>\n",
       "</div>"
      ],
      "text/plain": [
       "                Country  Life expectancy       BMI\n",
       "0           Afghanistan             52.8  20.62058\n",
       "1               Albania             76.8  26.44657\n",
       "2               Algeria             75.5  24.59620\n",
       "3               Andorra             84.6  27.63048\n",
       "4                Angola             56.7  22.25083\n",
       "..                  ...              ...       ...\n",
       "158             Vanuatu             63.4  26.78926\n",
       "159  West Bank and Gaza             74.1  26.57750\n",
       "160             Vietnam             74.1  20.91630\n",
       "161              Zambia             51.1  20.68321\n",
       "162            Zimbabwe             47.3  22.02660\n",
       "\n",
       "[163 rows x 3 columns]"
      ]
     },
     "execution_count": 8,
     "metadata": {},
     "output_type": "execute_result"
    }
   ],
   "source": [
    "import pandas as pd\n",
    "from sklearn.linear_model import LinearRegression\n",
    "\n",
    "bmi_life_data = pd.read_csv('data/bmi_and_life_expectancy.csv', header=0)\n",
    "bmi_life_data"
   ]
  },
  {
   "cell_type": "code",
   "execution_count": 9,
   "id": "34397379-13ec-43fd-9fca-1122a2fdb2b2",
   "metadata": {},
   "outputs": [
    {
     "name": "stderr",
     "output_type": "stream",
     "text": [
      "/Users/duerr/miniconda3/envs/udacity/lib/python3.9/site-packages/sklearn/base.py:445: UserWarning: X does not have valid feature names, but LinearRegression was fitted with feature names\n",
      "  warnings.warn(\n"
     ]
    },
    {
     "data": {
      "text/plain": [
       "array([[60.31564716]])"
      ]
     },
     "execution_count": 9,
     "metadata": {},
     "output_type": "execute_result"
    }
   ],
   "source": [
    "model = LinearRegression()\n",
    "model.fit(bmi_life_data[['BMI']], bmi_life_data[['Life expectancy']])\n",
    "\n",
    "laos_life_exp = model.predict([[21.07931]])\n",
    "laos_life_exp"
   ]
  },
  {
   "cell_type": "code",
   "execution_count": 10,
   "id": "81880b8a-4703-4368-91e1-8942dec23ede",
   "metadata": {},
   "outputs": [
    {
     "data": {
      "image/png": "[encoded data removed]",
      "text/plain": [
       "<Figure size 432x288 with 1 Axes>"
      ]
     },
     "metadata": {
      "needs_background": "light"
     },
     "output_type": "display_data"
    }
   ],
   "source": [
    "import matplotlib.pyplot as plt\n",
    "import seaborn as sns\n",
    "\n",
    "sns.scatterplot(data=bmi_life_data, x='BMI', y='Life expectancy');\n",
    "x = np.array([20,30])\n",
    "y = lambda x: model.coef_ * x + model.intercept_\n",
    "plt.plot(x, y(x)[0], color='r');"
   ]
  },
  {
   "cell_type": "markdown",
   "id": "9002146e-938a-42c4-ad4b-f19923378fa1",
   "metadata": {},
   "source": [
    "## Multiple Linear Regression\n",
    "\n",
    "A **predictor** is an **independent variable** you're looking at in order to make predictions about other **outcome** variables (BMI in the last example), while the values you are trying to predict are known as **dependent variables** (life expectancy in the last example)"
   ]
  },
  {
   "cell_type": "code",
   "execution_count": 11,
   "id": "b4230291-dc95-4933-97d5-ef780daecad2",
   "metadata": {},
   "outputs": [
    {
     "data": {
      "text/plain": [
       "array([23.68284712])"
      ]
     },
     "execution_count": 11,
     "metadata": {},
     "output_type": "execute_result"
    }
   ],
   "source": [
    "from sklearn.linear_model import LinearRegression\n",
    "from sklearn.datasets import load_boston\n",
    "\n",
    "# Load the data from the boston house-prices dataset \n",
    "import warnings\n",
    "warnings.filterwarnings('ignore')\n",
    "boston_data = load_boston()\n",
    "x = boston_data['data']\n",
    "y = boston_data['target']\n",
    "\n",
    "# Make and fit the linear regression model\n",
    "model = LinearRegression()\n",
    "model.fit(x, y)\n",
    "\n",
    "# Make a prediction using the model\n",
    "sample_house = [[2.29690000e-01, 0.00000000e+00, 1.05900000e+01, 0.00000000e+00, 4.89000000e-01,\n",
    "                6.32600000e+00, 5.25000000e+01, 4.35490000e+00, 4.00000000e+00, 2.77000000e+02,\n",
    "                1.86000000e+01, 3.94870000e+02, 1.09700000e+01]]\n",
    "prediction = model.predict(sample_house)\n",
    "prediction"
   ]
  },
  {
   "cell_type": "markdown",
   "id": "e5db645d-4d34-4f06-8f01-ea5917f41bcf",
   "metadata": {},
   "source": [
    "## Closed Form Solution\n",
    "\n",
    "#### One Feature\n",
    "\n",
    "For linear regression with **one predictor** ($n = 1$), the weights $w_1$ and $w_2$ can also be determined mathematically by solving the equations\n",
    "\n",
    "$$\n",
    "\\begin{aligned}\n",
    "\\frac{\\partial}{\\partial w_1} \\text{E}(w_1, w_2) &= 0 \\\\\n",
    "\\frac{\\partial}{\\partial w_2} \\text{E}(w_1, w_2) &= 0\n",
    "\\end{aligned}\n",
    "$$\n",
    "\n",
    "#### Multiple Features\n",
    "\n",
    "For linear regression with **multiple features** ($n > 1$), we introduce the following notation.\n",
    "\n",
    "The **matrix** $X$ contains the data where each **row** is one datapoint with $n$ features, and $x_0^{(i)} =1$ represents the **bias**:\n",
    " \n",
    "$$\n",
    "X = \\begin{pmatrix}x_0^{(0)} & x_1^{(0)} & \\cdots & x_n^{(0)} \\\\ x_0^{(1)} & x_1^{(1)} & \\cdots & x_n^{(1)} \\\\ \\vdots & \\vdots & \\ddots & \\vdots \\\\ x_0^{(m)} & x_1^{(m)} & \\cdots & x_n^{(m)} \\end{pmatrix} = \\begin{pmatrix}1 & x_1^{(0)} & \\cdots & x_n^{(0)} \\\\ 1 & x_1^{(1)} & \\cdots & x_n^{(1)} \\\\ \\vdots & \\vdots & \\ddots & \\vdots \\\\ 1 & x_1^{(m)} & \\cdots & x_n^{(m)} \\end{pmatrix}\n",
    "$$\n",
    "\n",
    "The **labels** are a **vector**\n",
    "\n",
    "$$\n",
    "y = \n",
    "\\begin{pmatrix}\n",
    " y^{(1)} \\\\\n",
    " y^{(2)} \\\\\n",
    " \\vdots \\\\\n",
    " y^{(m)} \\\\\n",
    "\\end{pmatrix}\n",
    "$$\n",
    "\n",
    "and the **weights** are a **matrix**\n",
    "\n",
    "$$\n",
    "W =\n",
    "\\begin{pmatrix}\n",
    " W_1 \\\\\n",
    " W_2 \\\\\n",
    " \\vdots \\\\\n",
    " W_n \\\\\n",
    "\\end{pmatrix}\n",
    "$$\n",
    "\n",
    "Then the equation for the **mean square error** is the matrix product\n",
    "\n",
    "$$\n",
    "E(W) = \\frac{1}{m} ((XW)^T - y^T) (XW - y)\n",
    "$$\n",
    "\n",
    "Since we need to minimize it, we can forget about the factor of $\\frac{1}{m}$, so we get\n",
    "\n",
    "$$\n",
    "E(W) = W^TX^TXW - (XW)^Ty - y^T(XW) + y^Ty\n",
    "$$\n",
    "\n",
    "In the sum above, the second and the third terms are the same, since it's the inner product of two vectors, which means it's the sum of the products of its coordinates. \n",
    "\n",
    "Therefore,\n",
    "\n",
    "$$\n",
    "E(W) = W^TX^TXW - 2(XW)^Ty + y^Ty\n",
    "$$\n",
    "\n",
    "To minimize this, we need to take the derivative with respect to all values in the matrix WW. Using the chain rule, as we used above, we get the following:\n",
    "\n",
    "$$\n",
    "\\frac{\\partial{E}}{\\partial{W}} = 2X^TXW - 2X^Ty\n",
    "$$\n",
    "\n",
    "And in order to set this equal to zero, we need\n",
    "\n",
    "$$\n",
    "X^TXW - X^Ty = 0\n",
    "$$\n",
    "\n",
    "or equivalently,\n",
    "\n",
    "$$\n",
    "W = (X^TX)^{-1} X^T y\n",
    "$$"
   ]
  },
  {
   "cell_type": "code",
   "execution_count": 12,
   "id": "1e2fa4f0-33c4-4550-9f12-e441c43df842",
   "metadata": {},
   "outputs": [
    {
     "name": "stdout",
     "output_type": "stream",
     "text": [
      "[1.         0.35714286]\n"
     ]
    }
   ],
   "source": [
    "# Example:\n",
    "\n",
    "import numpy as np\n",
    "\n",
    "x1 = np.array([3, 2])\n",
    "x2 = np.array([5, 3])\n",
    "x3 = np.array([6, 3])\n",
    "\n",
    "X = np.array([ [1, x1[0]],\n",
    "               [1, x2[0]],\n",
    "               [1, x3[0]] ])\n",
    "\n",
    "y = np.array([x1[1], x2[1], x3[1]])\n",
    "\n",
    "W = np.linalg.inv(X.T @ X) @ X.T @ y\n",
    "print(W)"
   ]
  },
  {
   "cell_type": "code",
   "execution_count": 13,
   "id": "989a637e-971e-40eb-af9a-d2f093eef0c3",
   "metadata": {},
   "outputs": [
    {
     "data": {
      "image/png": "[encoded data removed]",
      "text/plain": [
       "<Figure size 432x288 with 1 Axes>"
      ]
     },
     "metadata": {
      "needs_background": "light"
     },
     "output_type": "display_data"
    }
   ],
   "source": [
    "plt.scatter([x1[0], x2[0], x3[0]], [x1[1], x2[1], x3[1]])\n",
    "\n",
    "p1 = np.min(X[:,1])\n",
    "p2 = np.max(X[:,1])\n",
    "plt.plot([p1, p2], [W[1] * p1 + W[0], W[1] * p2 + W[0]], c='orange')\n",
    "plt.margins(0.1, 0.1)"
   ]
  },
  {
   "cell_type": "markdown",
   "id": "8070df86-eff0-4881-918c-508ed3039142",
   "metadata": {},
   "source": [
    "# Polynomial Regression\n",
    "\n",
    "Polynomial features are **non-linear features**, created by raising existing features to an exponent. A prediction could **for example** be\n",
    "\n",
    "$$\n",
    "\\hat{y} = w_3 x^3 + w_2 x^2 + w_1 x + w_0\n",
    "$$\n",
    "\n",
    "Scikit Learn provides a `PolynomialFeatures` class, which **transforms** the given features into **polynomial features** for a given **degree**.\n",
    "\n",
    "Given this new transformed data, a **linear-regression** is applied to the polynomial data."
   ]
  },
  {
   "cell_type": "code",
   "execution_count": 14,
   "id": "40f9d323-58fc-44b0-b02d-2ca4838c4f02",
   "metadata": {},
   "outputs": [
    {
     "name": "stdout",
     "output_type": "stream",
     "text": [
      "[[  1.   1.   1.   1.]\n",
      " [  1.   2.   4.   8.]\n",
      " [  1.   3.   9.  27.]\n",
      " [  1.   4.  16.  64.]\n",
      " [  1.   5.  25. 125.]]\n"
     ]
    }
   ],
   "source": [
    "from sklearn.preprocessing import PolynomialFeatures\n",
    "\n",
    "# Example:\n",
    "#\n",
    "#   1 feature 'a' with five observations\n",
    "#   degree: 3\n",
    "#\n",
    "a = np.array([1, 2, 3, 4, 5])[:, None]\n",
    "\n",
    "poly = PolynomialFeatures(degree=3)\n",
    "a_poly = poly.fit_transform(a)\n",
    "\n",
    "# the polynominal features are: 1, a, a^2, a^3\n",
    "print(a_poly)"
   ]
  },
  {
   "cell_type": "code",
   "execution_count": 15,
   "id": "e1cec22a-842b-4523-b077-3ac2e79f452e",
   "metadata": {},
   "outputs": [
    {
     "name": "stdout",
     "output_type": "stream",
     "text": [
      "[[   1.    1.    6.    1.    6.   36.    1.    6.   36.  216.]\n",
      " [   1.    2.    7.    4.   14.   49.    8.   28.   98.  343.]\n",
      " [   1.    3.    8.    9.   24.   64.   27.   72.  192.  512.]\n",
      " [   1.    4.    9.   16.   36.   81.   64.  144.  324.  729.]\n",
      " [   1.    5.   10.   25.   50.  100.  125.  250.  500. 1000.]]\n"
     ]
    }
   ],
   "source": [
    "# Example:\n",
    "#\n",
    "#   2 features 'a' and 'b' with five observations each\n",
    "#   degree: 3\n",
    "#\n",
    "a = np.array([[1, 6],\n",
    "              [2, 7],\n",
    "              [3, 8],\n",
    "              [4, 9],\n",
    "              [5, 10]])\n",
    "\n",
    "poly = PolynomialFeatures(degree=3)\n",
    "a_poly = poly.fit_transform(a)\n",
    "\n",
    "# the polynominal features are: 1, a, b, a^2, ab, b^2, a^3, a^2b, ab^2, b^3\n",
    "print(a_poly)"
   ]
  },
  {
   "cell_type": "markdown",
   "id": "590fbee4-4f34-42c7-961a-97e262e789eb",
   "metadata": {},
   "source": [
    "### Example\n",
    "\n",
    "We use a dataset with **one feature**, hence predict a polynom of degree $d$:\n",
    "\n",
    "$$\n",
    "\\hat{y} = \\sum_{i=0}^{d} w_i x^i\n",
    "$$"
   ]
  },
  {
   "cell_type": "code",
   "execution_count": 16,
   "id": "c39b5e1c-d8e9-4441-a2ea-f2881077ca67",
   "metadata": {},
   "outputs": [],
   "source": [
    "data = np.loadtxt('data/polynomial-regression-data.csv', delimiter = ',', skiprows=True)\n",
    "X = data[:, :-1]\n",
    "y = data[:, -1]"
   ]
  },
  {
   "cell_type": "code",
   "execution_count": 17,
   "id": "3754faa9-9262-45fe-9419-54765eaecd3d",
   "metadata": {},
   "outputs": [
    {
     "data": {
      "image/png": "[encoded data removed]",
      "text/plain": [
       "<Figure size 432x288 with 1 Axes>"
      ]
     },
     "metadata": {
      "needs_background": "light"
     },
     "output_type": "display_data"
    }
   ],
   "source": [
    "plt.scatter(X, y);"
   ]
  },
  {
   "cell_type": "code",
   "execution_count": 18,
   "id": "787fdd88-0d2d-4ce8-bfd7-8a81af6a268e",
   "metadata": {},
   "outputs": [
    {
     "data": {
      "text/plain": [
       "LinearRegression(fit_intercept=False)"
      ]
     },
     "execution_count": 18,
     "metadata": {},
     "output_type": "execute_result"
    }
   ],
   "source": [
    "from sklearn.preprocessing import PolynomialFeatures\n",
    "from sklearn.linear_model import LinearRegression\n",
    "\n",
    "poly_feat = PolynomialFeatures(degree=4)    # try different degrees manually: 4 gives the best fit for the given data\n",
    "X_poly = poly_feat.fit_transform(X)\n",
    "\n",
    "poly_model = LinearRegression(fit_intercept=False)\n",
    "poly_model.fit(X_poly, y)"
   ]
  },
  {
   "cell_type": "code",
   "execution_count": 19,
   "id": "5c8bf0e7-213e-4286-bc88-1e0f24a64dda",
   "metadata": {},
   "outputs": [
    {
     "data": {
      "image/png": "[encoded data removed]",
      "text/plain": [
       "<Figure size 432x288 with 1 Axes>"
      ]
     },
     "metadata": {
      "needs_background": "light"
     },
     "output_type": "display_data"
    }
   ],
   "source": [
    "c = poly_model.coef_\n",
    "b =  poly_model.intercept_\n",
    "\n",
    "from functools import reduce\n",
    "f = lambda x: reduce(lambda a, v: a + v[1] * pow(x, v[0]), [(exp, w) for exp, w in enumerate(c)], b)\n",
    "\n",
    "x = np.linspace(X.min(), X.max())\n",
    "plt.plot(x, f(x), c='orange')\n",
    "plt.scatter(X, y);"
   ]
  },
  {
   "cell_type": "markdown",
   "id": "40232618-3653-4018-b734-046526b6b187",
   "metadata": {},
   "source": [
    "# Regularization\n",
    "\n",
    "Regularization as a technique to **assure** that your models will **not over-fit** to the data available, but also **generalize** to new situations.\n",
    "\n",
    "Regularization will **remove features** from a model, by setting their coefficients to zero, if the penalty for removing them is small.\n",
    "\n",
    "It is easy to see, that the more complex a polynomial prediction in terms of coefficients $w$ is, the more likely it is that it will overfit. Hence the added regularization term will increase the error.\n",
    "\n",
    "On the other hand a simple nearly linear prediction has less coefficients $w$ which so decreases the error, hence avoids over-fitting.\n",
    "\n",
    "### L1-Regularization\n",
    "\n",
    "L1-Regularization of linear regression (**Lasso Regression**) consists of a **linear model** with an **added regularization term**. The objective function to minimize is then:\n",
    "\n",
    "$$\n",
    "\\text{Error} = \\text{MSE} + \\alpha \\sum_{i=1}^m |w_i|\n",
    "$$\n",
    "\n",
    "with an $\\alpha$ that can take various values:\n",
    "\n",
    "* $\\alpha = 0$: same coefficients as least squares linear regression\n",
    "* $0 < \\alpha < \\infty$: \n",
    "* $\\alpha = \\infty$: all coefficients are zero\n",
    "\n",
    "In the gradient descent step, L1 regularization does additionally decrease $\\alpha$ from non-zero weights.\n",
    "\n",
    "### L2-Regularization\n",
    "\n",
    "L2-Regularization of linear regression (**Ridge Regression**) consists of a **linear model** with an **added regularization term**:\n",
    "\n",
    "$$\n",
    "\\text{Error} = \\text{MSE} + \\alpha \\sum_{i=1}^m w_i^2 \n",
    "$$\n",
    "\n",
    "In the gradient descent step, L2 regularization does additionally decrease $\\alpha w_i$ from non-zero weights $w_i$.\n"
   ]
  },
  {
   "cell_type": "markdown",
   "id": "815dfdf2-67ab-4dbb-8898-c1cd8c048dae",
   "metadata": {},
   "source": [
    "### Example\n",
    "\n",
    "Data contains six **predictor** variables and one **outcome** variable."
   ]
  },
  {
   "cell_type": "code",
   "execution_count": 48,
   "id": "5414c4e2-26db-481c-85e0-0666a2c0a1b0",
   "metadata": {},
   "outputs": [],
   "source": [
    "train_data = np.loadtxt('data/regularization-data.csv', delimiter = ',')\n",
    "X = train_data[:, :-1]  # all columns except the last\n",
    "y = train_data[:, -1]"
   ]
  },
  {
   "cell_type": "code",
   "execution_count": 59,
   "id": "0964eb69-6cac-4e13-8491-71f7fe2456ff",
   "metadata": {},
   "outputs": [],
   "source": [
    "from sklearn.model_selection import train_test_split\n",
    "X_train, X_test, y_train, y_test = train_test_split(X, y, test_size=0.2)"
   ]
  },
  {
   "cell_type": "code",
   "execution_count": 60,
   "id": "c5458533-52c1-4129-b4ec-40a14a2400e3",
   "metadata": {},
   "outputs": [
    {
     "data": {
      "text/plain": [
       "LinearRegression()"
      ]
     },
     "execution_count": 60,
     "metadata": {},
     "output_type": "execute_result"
    }
   ],
   "source": [
    "from sklearn.linear_model import LinearRegression\n",
    "\n",
    "lin_reg = LinearRegression()\n",
    "lin_reg.fit(X_train, y_train)"
   ]
  },
  {
   "cell_type": "code",
   "execution_count": 61,
   "id": "ec4f8a03-e175-4152-8b03-d426bdf3036d",
   "metadata": {},
   "outputs": [
    {
     "data": {
      "text/plain": [
       "array([-1.02329555e-01,  4.42050684e-02,  1.32071912e-02,  2.69156613e+00,\n",
       "       -2.12528557e+01,  3.21709057e+00,  1.68626873e-02, -1.55057309e+00,\n",
       "        3.58958140e-01, -1.32885077e-02, -1.06384616e+00,  9.73249759e-03,\n",
       "       -5.78627702e-01])"
      ]
     },
     "execution_count": 61,
     "metadata": {},
     "output_type": "execute_result"
    }
   ],
   "source": [
    "lin_reg.coef_"
   ]
  },
  {
   "cell_type": "code",
   "execution_count": 62,
   "id": "68af0158-f5dd-4f18-bd6a-02053f9c6f5b",
   "metadata": {},
   "outputs": [
    {
     "data": {
      "text/plain": [
       "0.7304313699187688"
      ]
     },
     "execution_count": 62,
     "metadata": {},
     "output_type": "execute_result"
    }
   ],
   "source": [
    "lin_reg.score(X_train, y_train)"
   ]
  },
  {
   "cell_type": "code",
   "execution_count": 63,
   "id": "d2655c44-defb-4e1f-9b55-3ed81c3cc783",
   "metadata": {},
   "outputs": [
    {
     "data": {
      "text/plain": [
       "0.7675984720652902"
      ]
     },
     "execution_count": 63,
     "metadata": {},
     "output_type": "execute_result"
    }
   ],
   "source": [
    "lin_reg.score(X_test, y_test)"
   ]
  },
  {
   "cell_type": "code",
   "execution_count": 54,
   "id": "97b9851e-b073-4dcc-9da7-747bbad9c7fb",
   "metadata": {},
   "outputs": [
    {
     "data": {
      "text/plain": [
       "Lasso(alpha=1)"
      ]
     },
     "execution_count": 54,
     "metadata": {},
     "output_type": "execute_result"
    }
   ],
   "source": [
    "from sklearn.linear_model import Lasso\n",
    "\n",
    "lasso_reg = Lasso(alpha=1)\n",
    "lasso_reg.fit(X_train, y_train)"
   ]
  },
  {
   "cell_type": "code",
   "execution_count": 55,
   "id": "930a1794-d58c-4348-9000-2b1323c10cee",
   "metadata": {},
   "outputs": [
    {
     "data": {
      "text/plain": [
       "array([ 0.        ,  2.37791681,  2.03715373, -0.05956482, -3.95438316,\n",
       "        0.        ])"
      ]
     },
     "execution_count": 55,
     "metadata": {},
     "output_type": "execute_result"
    }
   ],
   "source": [
    "lasso_reg.coef_"
   ]
  },
  {
   "cell_type": "code",
   "execution_count": 56,
   "id": "41f2c311-808d-4893-a33c-1cd532259d34",
   "metadata": {},
   "outputs": [
    {
     "data": {
      "text/plain": [
       "0.9892312113347429"
      ]
     },
     "execution_count": 56,
     "metadata": {},
     "output_type": "execute_result"
    }
   ],
   "source": [
    "lasso_reg.score(X_train, y_train)"
   ]
  },
  {
   "cell_type": "code",
   "execution_count": 57,
   "id": "e9b7ae31-8b3a-4dcd-b518-065243517e95",
   "metadata": {},
   "outputs": [
    {
     "data": {
      "text/plain": [
       "0.9795809784103109"
      ]
     },
     "execution_count": 57,
     "metadata": {},
     "output_type": "execute_result"
    }
   ],
   "source": [
    "lasso_reg.score(X_test, y_test)"
   ]
  },
  {
   "cell_type": "markdown",
   "id": "c2882435-ad34-4b55-bb96-398577088141",
   "metadata": {},
   "source": [
    "### Example"
   ]
  },
  {
   "cell_type": "code",
   "execution_count": 33,
   "id": "7f9c7323-5575-4ad6-9dac-d9c4e69da4d0",
   "metadata": {},
   "outputs": [
    {
     "data": {
      "text/plain": [
       "(34857, 21)"
      ]
     },
     "execution_count": 33,
     "metadata": {},
     "output_type": "execute_result"
    }
   ],
   "source": [
    "from sklearn.linear_model import LinearRegression\n",
    "import pandas as pd\n",
    "\n",
    "dataset = pd.read_csv('https://raw.githubusercontent.com/dipalira/Melbourne-Housing-Data-Kaggle/master/Data/Melbourne_housing_FULL.csv')\n",
    "dataset.shape"
   ]
  },
  {
   "cell_type": "code",
   "execution_count": 34,
   "id": "5f22f8a6-9f62-4952-a350-70a37d9ac7e5",
   "metadata": {},
   "outputs": [
    {
     "data": {
      "text/html": [
       "<div>\n",
       "<style scoped>\n",
       "    .dataframe tbody tr th:only-of-type {\n",
       "        vertical-align: middle;\n",
       "    }\n",
       "\n",
       "    .dataframe tbody tr th {\n",
       "        vertical-align: top;\n",
       "    }\n",
       "\n",
       "    .dataframe thead th {\n",
       "        text-align: right;\n",
       "    }\n",
       "</style>\n",
       "<table border=\"1\" class=\"dataframe\">\n",
       "  <thead>\n",
       "    <tr style=\"text-align: right;\">\n",
       "      <th></th>\n",
       "      <th>Suburb</th>\n",
       "      <th>Rooms</th>\n",
       "      <th>Type</th>\n",
       "      <th>Method</th>\n",
       "      <th>SellerG</th>\n",
       "      <th>Regionname</th>\n",
       "      <th>Propertycount</th>\n",
       "      <th>Distance</th>\n",
       "      <th>CouncilArea</th>\n",
       "      <th>Bedroom2</th>\n",
       "      <th>Bathroom</th>\n",
       "      <th>Car</th>\n",
       "      <th>Landsize</th>\n",
       "      <th>Price</th>\n",
       "    </tr>\n",
       "  </thead>\n",
       "  <tbody>\n",
       "    <tr>\n",
       "      <th>0</th>\n",
       "      <td>Abbotsford</td>\n",
       "      <td>2</td>\n",
       "      <td>h</td>\n",
       "      <td>SS</td>\n",
       "      <td>Jellis</td>\n",
       "      <td>Northern Metropolitan</td>\n",
       "      <td>4019.0</td>\n",
       "      <td>2.5</td>\n",
       "      <td>Yarra City Council</td>\n",
       "      <td>2.0</td>\n",
       "      <td>1.0</td>\n",
       "      <td>1.0</td>\n",
       "      <td>126.0</td>\n",
       "      <td>NaN</td>\n",
       "    </tr>\n",
       "    <tr>\n",
       "      <th>1</th>\n",
       "      <td>Abbotsford</td>\n",
       "      <td>2</td>\n",
       "      <td>h</td>\n",
       "      <td>S</td>\n",
       "      <td>Biggin</td>\n",
       "      <td>Northern Metropolitan</td>\n",
       "      <td>4019.0</td>\n",
       "      <td>2.5</td>\n",
       "      <td>Yarra City Council</td>\n",
       "      <td>2.0</td>\n",
       "      <td>1.0</td>\n",
       "      <td>1.0</td>\n",
       "      <td>202.0</td>\n",
       "      <td>1480000.0</td>\n",
       "    </tr>\n",
       "    <tr>\n",
       "      <th>2</th>\n",
       "      <td>Abbotsford</td>\n",
       "      <td>2</td>\n",
       "      <td>h</td>\n",
       "      <td>S</td>\n",
       "      <td>Biggin</td>\n",
       "      <td>Northern Metropolitan</td>\n",
       "      <td>4019.0</td>\n",
       "      <td>2.5</td>\n",
       "      <td>Yarra City Council</td>\n",
       "      <td>2.0</td>\n",
       "      <td>1.0</td>\n",
       "      <td>0.0</td>\n",
       "      <td>156.0</td>\n",
       "      <td>1035000.0</td>\n",
       "    </tr>\n",
       "    <tr>\n",
       "      <th>3</th>\n",
       "      <td>Abbotsford</td>\n",
       "      <td>3</td>\n",
       "      <td>u</td>\n",
       "      <td>VB</td>\n",
       "      <td>Rounds</td>\n",
       "      <td>Northern Metropolitan</td>\n",
       "      <td>4019.0</td>\n",
       "      <td>2.5</td>\n",
       "      <td>Yarra City Council</td>\n",
       "      <td>3.0</td>\n",
       "      <td>2.0</td>\n",
       "      <td>1.0</td>\n",
       "      <td>0.0</td>\n",
       "      <td>NaN</td>\n",
       "    </tr>\n",
       "    <tr>\n",
       "      <th>4</th>\n",
       "      <td>Abbotsford</td>\n",
       "      <td>3</td>\n",
       "      <td>h</td>\n",
       "      <td>SP</td>\n",
       "      <td>Biggin</td>\n",
       "      <td>Northern Metropolitan</td>\n",
       "      <td>4019.0</td>\n",
       "      <td>2.5</td>\n",
       "      <td>Yarra City Council</td>\n",
       "      <td>3.0</td>\n",
       "      <td>2.0</td>\n",
       "      <td>0.0</td>\n",
       "      <td>134.0</td>\n",
       "      <td>1465000.0</td>\n",
       "    </tr>\n",
       "  </tbody>\n",
       "</table>\n",
       "</div>"
      ],
      "text/plain": [
       "       Suburb  Rooms Type Method SellerG             Regionname  \\\n",
       "0  Abbotsford      2    h     SS  Jellis  Northern Metropolitan   \n",
       "1  Abbotsford      2    h      S  Biggin  Northern Metropolitan   \n",
       "2  Abbotsford      2    h      S  Biggin  Northern Metropolitan   \n",
       "3  Abbotsford      3    u     VB  Rounds  Northern Metropolitan   \n",
       "4  Abbotsford      3    h     SP  Biggin  Northern Metropolitan   \n",
       "\n",
       "   Propertycount  Distance         CouncilArea  Bedroom2  Bathroom  Car  \\\n",
       "0         4019.0       2.5  Yarra City Council       2.0       1.0  1.0   \n",
       "1         4019.0       2.5  Yarra City Council       2.0       1.0  1.0   \n",
       "2         4019.0       2.5  Yarra City Council       2.0       1.0  0.0   \n",
       "3         4019.0       2.5  Yarra City Council       3.0       2.0  1.0   \n",
       "4         4019.0       2.5  Yarra City Council       3.0       2.0  0.0   \n",
       "\n",
       "   Landsize      Price  \n",
       "0     126.0        NaN  \n",
       "1     202.0  1480000.0  \n",
       "2     156.0  1035000.0  \n",
       "3       0.0        NaN  \n",
       "4     134.0  1465000.0  "
      ]
     },
     "execution_count": 34,
     "metadata": {},
     "output_type": "execute_result"
    }
   ],
   "source": [
    "col_to_use = ['Suburb', 'Rooms', 'Type', 'Method', 'SellerG', 'Regionname', 'Propertycount', 'Distance', 'CouncilArea', 'Bedroom2', 'Bathroom', 'Car', 'Landsize', 'Price']\n",
    "dataset = dataset[col_to_use]\n",
    "dataset.head()"
   ]
  },
  {
   "cell_type": "code",
   "execution_count": 36,
   "id": "030ff089-3c3b-4afd-a4d0-c3273eca370c",
   "metadata": {},
   "outputs": [
    {
     "data": {
      "text/plain": [
       "Suburb               0\n",
       "Address              0\n",
       "Rooms                0\n",
       "Type                 0\n",
       "Price             7610\n",
       "Method               0\n",
       "SellerG              0\n",
       "Date                 0\n",
       "Distance             1\n",
       "Postcode             1\n",
       "Bedroom2          8217\n",
       "Bathroom          8226\n",
       "Car               8728\n",
       "Landsize         11810\n",
       "BuildingArea     21115\n",
       "YearBuilt        19306\n",
       "CouncilArea          3\n",
       "Lattitude         7976\n",
       "Longtitude        7976\n",
       "Regionname           3\n",
       "Propertycount        3\n",
       "dtype: int64"
      ]
     },
     "execution_count": 36,
     "metadata": {},
     "output_type": "execute_result"
    }
   ],
   "source": [
    "df.isna().sum()      "
   ]
  },
  {
   "cell_type": "code",
   "execution_count": null,
   "id": "2b3a43b4-7228-4933-9b44-b2a8da9ed285",
   "metadata": {},
   "outputs": [],
   "source": [
    "cols_to_fill_zero = ['Propertycount', 'Distance', 'Bedroom2', 'Bathroom', 'Car']\n",
    "df[cols_to_fill_zero] = df[cols_to_fill_zero]"
   ]
  },
  {
   "cell_type": "code",
   "execution_count": 23,
   "id": "c8e19469-4b0f-496b-b041-cc8c32eaa8cc",
   "metadata": {},
   "outputs": [
    {
     "name": "stdout",
     "output_type": "stream",
     "text": [
      "1.0\n",
      "1.0\n"
     ]
    }
   ],
   "source": [
    "from sklearn.model_selection import train_test_split\n",
    "X_train, X_test, y_train, y_test = train_test_split(X, y)\n",
    "\n",
    "from sklearn.linear_model import LinearRegression\n",
    "model = LinearRegression()\n",
    "model.fit(X_train, y_train)\n",
    "\n",
    "print(model.score(X_train, y_train))\n",
    "print(model.score(X_test, y_test))"
   ]
  },
  {
   "cell_type": "markdown",
   "id": "298fbb4c-2334-49e0-81c6-16231ed6b478",
   "metadata": {},
   "source": [
    "# Feature Scaling\n",
    "\n",
    "There are two common scalings:\n",
    "\n",
    "1. **Standardizing**\n",
    "2. **Normalizing**\n",
    "\n",
    "Having scaled data is crucial for predictions with **distance-based metrics**, e.g. Support Vector Machines (**SVM**) or k-nearest neighbors (**KNN**), and when applying **regularization**, otherwise applying regularization will unfairly punish the feature with the small range.\n",
    "\n",
    "Standardization is important, because if a feature has a variance that is orders of magnitude larger than others, it might dominate the objective function and make the estimator unable to learn from other features correctly as expected.\n",
    "\n",
    "### Standardizing\n",
    "\n",
    "Standardizing means subtracting the mean of the column, and then dividing by the standard deviation: \n",
    "\n",
    "$$\n",
    "x_s = \\frac{x - \\overline{x}}{\\sigma}\n",
    "$$\n",
    "\n",
    "### Normalizing\n",
    "\n",
    "Normalizing means scaling data between `0` and `1`:\n",
    "\n",
    "$$\n",
    "x_n = \\frac{x - x_{min}}{x_{max} - x_{min}}\n",
    "$$"
   ]
  },
  {
   "cell_type": "code",
   "execution_count": 24,
   "id": "6bff54b8-6324-485a-a0c0-0ddff4468353",
   "metadata": {},
   "outputs": [
    {
     "data": {
      "text/html": [
       "<div>\n",
       "<style scoped>\n",
       "    .dataframe tbody tr th:only-of-type {\n",
       "        vertical-align: middle;\n",
       "    }\n",
       "\n",
       "    .dataframe tbody tr th {\n",
       "        vertical-align: top;\n",
       "    }\n",
       "\n",
       "    .dataframe thead th {\n",
       "        text-align: right;\n",
       "    }\n",
       "</style>\n",
       "<table border=\"1\" class=\"dataframe\">\n",
       "  <thead>\n",
       "    <tr style=\"text-align: right;\">\n",
       "      <th></th>\n",
       "      <th>height</th>\n",
       "      <th>height_standard</th>\n",
       "      <th>height_normal</th>\n",
       "    </tr>\n",
       "  </thead>\n",
       "  <tbody>\n",
       "    <tr>\n",
       "      <th>0</th>\n",
       "      <td>1</td>\n",
       "      <td>-1.336306</td>\n",
       "      <td>0.0</td>\n",
       "    </tr>\n",
       "    <tr>\n",
       "      <th>1</th>\n",
       "      <td>2</td>\n",
       "      <td>-0.801784</td>\n",
       "      <td>0.2</td>\n",
       "    </tr>\n",
       "    <tr>\n",
       "      <th>2</th>\n",
       "      <td>3</td>\n",
       "      <td>-0.267261</td>\n",
       "      <td>0.4</td>\n",
       "    </tr>\n",
       "    <tr>\n",
       "      <th>3</th>\n",
       "      <td>4</td>\n",
       "      <td>0.267261</td>\n",
       "      <td>0.6</td>\n",
       "    </tr>\n",
       "    <tr>\n",
       "      <th>4</th>\n",
       "      <td>5</td>\n",
       "      <td>0.801784</td>\n",
       "      <td>0.8</td>\n",
       "    </tr>\n",
       "    <tr>\n",
       "      <th>5</th>\n",
       "      <td>6</td>\n",
       "      <td>1.336306</td>\n",
       "      <td>1.0</td>\n",
       "    </tr>\n",
       "  </tbody>\n",
       "</table>\n",
       "</div>"
      ],
      "text/plain": [
       "   height  height_standard  height_normal\n",
       "0       1        -1.336306            0.0\n",
       "1       2        -0.801784            0.2\n",
       "2       3        -0.267261            0.4\n",
       "3       4         0.267261            0.6\n",
       "4       5         0.801784            0.8\n",
       "5       6         1.336306            1.0"
      ]
     },
     "execution_count": 24,
     "metadata": {},
     "output_type": "execute_result"
    }
   ],
   "source": [
    "df = pd.DataFrame({'height': [1, 2, 3, 4, 5, 6]})\n",
    "\n",
    "# Standardizing:\n",
    "df['height_standard'] = (df['height'] - df['height'].mean()) / df['height'].std()\n",
    "\n",
    "# Normalizing:\n",
    "df['height_normal'] = (df['height'] - df['height'].min()) / (df['height'].max() - df['height'].min())\n",
    "\n",
    "df"
   ]
  },
  {
   "cell_type": "markdown",
   "id": "695c91a9-6592-4e70-80b8-e0620e5998b1",
   "metadata": {},
   "source": [
    "### Regularization with Scaled Data"
   ]
  },
  {
   "cell_type": "code",
   "execution_count": 25,
   "id": "30d8ac6c-ec05-4299-bb78-0d58306f3ac9",
   "metadata": {},
   "outputs": [],
   "source": [
    "train_data = np.loadtxt('data/regularization-data.csv', delimiter = ',')\n",
    "X = train_data[:, :-1]  # all columns except the last\n",
    "y = train_data[:, -1]"
   ]
  },
  {
   "cell_type": "code",
   "execution_count": 26,
   "id": "878b4570-1eef-4206-9915-34d8e06807b9",
   "metadata": {},
   "outputs": [],
   "source": [
    "from sklearn.preprocessing import StandardScaler\n",
    "scaler = StandardScaler()\n",
    "X_scaled = scaler.fit_transform(X)"
   ]
  },
  {
   "cell_type": "code",
   "execution_count": 27,
   "id": "787ede29-7670-4c63-93c9-6578f832fb58",
   "metadata": {},
   "outputs": [
    {
     "data": {
      "text/plain": [
       "Lasso(alpha=1)"
      ]
     },
     "execution_count": 27,
     "metadata": {},
     "output_type": "execute_result"
    }
   ],
   "source": [
    "from sklearn.linear_model import Lasso\n",
    "lasso_reg = Lasso(alpha=1)\n",
    "lasso_reg.fit(X_scaled, y)"
   ]
  },
  {
   "cell_type": "code",
   "execution_count": 28,
   "id": "e8fdfa5d-f2f5-4f71-926b-948463a70277",
   "metadata": {},
   "outputs": [
    {
     "data": {
      "text/plain": [
       "array([  0.        ,   3.90753617,   9.02575748,  -0.        ,\n",
       "       -11.78303187,   0.45340137])"
      ]
     },
     "execution_count": 28,
     "metadata": {},
     "output_type": "execute_result"
    }
   ],
   "source": [
    "reg_coef = lasso_reg.coef_\n",
    "reg_coef"
   ]
  }
 ],
 "metadata": {
  "kernelspec": {
   "display_name": "Python 3 (ipykernel)",
   "language": "python",
   "name": "python3"
  },
  "language_info": {
   "codemirror_mode": {
    "name": "ipython",
    "version": 3
   },
   "file_extension": ".py",
   "mimetype": "text/x-python",
   "name": "python",
   "nbconvert_exporter": "python",
   "pygments_lexer": "ipython3",
   "version": "3.10.2"
  }
 },
 "nbformat": 4,
 "nbformat_minor": 5
}
