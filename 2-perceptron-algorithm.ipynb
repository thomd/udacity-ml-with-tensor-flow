{
 "cells": [
  {
   "cell_type": "markdown",
   "id": "e2dc828a-a9cd-4481-8769-d548ebec6d7a",
   "metadata": {},
   "source": [
    "# 2. Perceptron Algorithm"
   ]
  },
  {
   "cell_type": "markdown",
   "id": "858faa69-a44e-49c7-8fd1-48a23e937da5",
   "metadata": {},
   "source": [
    "### Higher Dimension Classification\n",
    "\n",
    "Given a $n$-dimensional space with $n$ features $X = x_1, x_2, \\ldots, x_n$, then our **boundary** is a $n-1$ dimensional **hyper-plane**\n",
    "\n",
    "$$\n",
    "W X + b = 0\n",
    "$$\n",
    "\n",
    "with the weights\n",
    "$$\n",
    "W = (w_1, w_2, \\ldots, w_n)\n",
    "$$\n",
    "\n",
    "The **prediction** $\\hat{y}$ is then\n",
    "\n",
    "$$\n",
    "\\hat{y} =\n",
    "\\begin{cases}\n",
    "  1 \\quad \\text{if} \\quad WX+b \\geq 0 \\\\\n",
    "  0 \\quad \\text{if} \\quad WX+b < 0\n",
    "\\end{cases}\n",
    "$$"
   ]
  },
  {
   "cell_type": "markdown",
   "id": "acb4625b-cbf8-4c1c-b304-1997118725f8",
   "metadata": {},
   "source": [
    "### Perceptron\n",
    "\n",
    "A perceptron can be considered a **linear function** for the feature inputs (incl. the bias) and weights followed by a **step function**."
   ]
  },
  {
   "cell_type": "markdown",
   "id": "66add608-3819-4e29-9cf1-eae1f8680dc1",
   "metadata": {},
   "source": [
    "#### Logical Operators as Perceptrons"
   ]
  },
  {
   "cell_type": "code",
   "execution_count": null,
   "id": "0fb4f813-cbf2-44ca-a411-f782c85d2179",
   "metadata": {},
   "outputs": [],
   "source": []
  }
 ],
 "metadata": {
  "kernelspec": {
   "display_name": "Python 3 (ipykernel)",
   "language": "python",
   "name": "python3"
  },
  "language_info": {
   "codemirror_mode": {
    "name": "ipython",
    "version": 3
   },
   "file_extension": ".py",
   "mimetype": "text/x-python",
   "name": "python",
   "nbconvert_exporter": "python",
   "pygments_lexer": "ipython3",
   "version": "3.9.7"
  }
 },
 "nbformat": 4,
 "nbformat_minor": 5
}
