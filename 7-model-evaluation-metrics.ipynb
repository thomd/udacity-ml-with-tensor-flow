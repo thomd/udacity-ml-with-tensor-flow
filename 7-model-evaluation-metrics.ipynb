{
 "cells": [
  {
   "cell_type": "markdown",
   "id": "2d00bc0b-4e32-4dae-ae2e-3e370e2a0270",
   "metadata": {},
   "source": [
    "# Model Evaluation Metrics"
   ]
  },
  {
   "cell_type": "markdown",
   "id": "05702541-93e1-4495-932a-6fcf611d8eab",
   "metadata": {},
   "source": [
    "## Model Testing\n",
    "\n",
    "Always verify your model using **test data**."
   ]
  },
  {
   "cell_type": "code",
   "execution_count": 6,
   "id": "575661c9-8701-4df8-925d-5b2e90c96e9a",
   "metadata": {},
   "outputs": [
    {
     "data": {
      "text/plain": [
       "0.9583333333333334"
      ]
     },
     "execution_count": 6,
     "metadata": {},
     "output_type": "execute_result"
    }
   ],
   "source": [
    "from sklearn.tree import DecisionTreeClassifier\n",
    "from sklearn.metrics import accuracy_score\n",
    "import pandas as pd\n",
    "import numpy as np\n",
    "from sklearn.model_selection import train_test_split\n",
    "\n",
    "data = np.asarray(pd.read_csv('data/testing-data.csv', header=None))\n",
    "X = data[:,0:2]\n",
    "y = data[:,2]\n",
    "\n",
    "X_train, X_test, y_train, y_test = train_test_split(X, y, test_size=0.25, random_state=42)\n",
    "\n",
    "model = DecisionTreeClassifier()\n",
    "model.fit(X_train, y_train)\n",
    "y_pred = model.predict(X_test)\n",
    "acc = model.score(X_test, y_test)\n",
    "\n",
    "acc"
   ]
  },
  {
   "cell_type": "markdown",
   "id": "650de005-1015-43da-b188-eb9ff10221b0",
   "metadata": {},
   "source": [
    "## Confusion Matrix\n",
    "\n",
    "How good is our model?\n",
    "\n",
    "* **Spam**: we don't want **False Positives** but **False Negatives** are Ok, i.e. we want a high **Precision**.\n",
    "* **Sickness**: we don't want **False Negatives** but **False Positives** are Ok, i.e. we want a high **Recall**.\n",
    "\n",
    "#### Type 1 and Type 2 Errors\n",
    "\n",
    "Sometimes in the literature, you'll see False Positives and False Negatives as **Type 1** and **Type 2 errors**. \n",
    "\n",
    "* **Type 1 Error** (Error of the first kind, or False Positive): In the medical example, this is when we misdiagnose a healthy patient as sick.\n",
    "* **Type 2 Error** (Error of the second kind, or False Negative): In the medical example, this is when we misdiagnose a sick patient as healthy."
   ]
  },
  {
   "cell_type": "code",
   "execution_count": 15,
   "id": "a2d593e8-2591-4652-b90a-884f502bb7da",
   "metadata": {},
   "outputs": [
    {
     "data": {
      "image/png": "[encoded data removed]",
      "text/plain": [
       "<Figure size 432x288 with 2 Axes>"
      ]
     },
     "metadata": {
      "needs_background": "light"
     },
     "output_type": "display_data"
    }
   ],
   "source": [
    "import seaborn as sns\n",
    "from sklearn.metrics import confusion_matrix\n",
    "\n",
    "cfm = confusion_matrix(y_test, y_pred)\n",
    "\n",
    "group_names = [\"True Positive\", \"False Negative\", \"False Positive\", \"True Negative\"]\n",
    "group_counts = [\"{0:0.0f}\".format(value) for value in cfm.flatten()]\n",
    "group_percentages = [\"{0:.2%}\".format(value) for value in cfm.flatten()/np.sum(cfm)]\n",
    "labels = [f\"{v1}\\n\\n{v2}\\n{v3}\" for v1, v2, v3 in zip(group_names,group_counts,group_percentages)]\n",
    "labels = np.asarray(labels).reshape(2,2)\n",
    "sns.heatmap(cfm, annot=labels, fmt=\"\", cmap='Blues');"
   ]
  },
  {
   "cell_type": "markdown",
   "id": "843c31e2-d910-49a7-9bbd-a36d475aa391",
   "metadata": {},
   "source": [
    "#### Accuracy\n",
    "\n",
    "Out of all the observations, **how many** did we classify **correctly**?\n",
    "\n",
    "$$\n",
    "\\text{Accuracy} = \\frac{\\text{TP} + \\text{TN}}{\\text{TP} + \\text{FN} + \\text{FP} + \\text{TN}}\n",
    "$$"
   ]
  },
  {
   "cell_type": "code",
   "execution_count": 18,
   "id": "218d5474-703e-41fc-99a2-faaa7cbdb634",
   "metadata": {},
   "outputs": [
    {
     "name": "stdout",
     "output_type": "stream",
     "text": [
      "Accuracy = 0.96\n"
     ]
    }
   ],
   "source": [
    "from sklearn.metrics import accuracy_score\n",
    "acc = accuracy_score(y_pred, y_test)\n",
    "\n",
    "print(f'Accuracy = {acc:.2}')"
   ]
  },
  {
   "cell_type": "markdown",
   "id": "5b1ba179-17f7-4072-bbde-6e3185a16001",
   "metadata": {},
   "source": [
    "#### Precision\n",
    "\n",
    "Precision answeres the following questions:\n",
    "\n",
    "* Out of the points we've predicted to be positive, how many are correct?\n",
    "* How many retrieved items are relevant?\n",
    "\n",
    "Examples:\n",
    "\n",
    "* Out of the patients we **diagnosed** with an illness, how many did we classify correctly as **sick**? The value can be **low**!\n",
    "* Out of all the **emails** sent to the **spam folder**, how many were actually **spam**? The value should be **high**!\n",
    "\n",
    "$$\n",
    "\\text{Precision} = \\frac{\\text{TP}}{\\text{TP} + \\text{FP}}\n",
    "$$"
   ]
  },
  {
   "cell_type": "code",
   "execution_count": 19,
   "id": "efb9ae2a-0e4d-4c9d-98d5-4ddb6ac508ac",
   "metadata": {},
   "outputs": [
    {
     "name": "stdout",
     "output_type": "stream",
     "text": [
      "Precision = 1.0\n"
     ]
    }
   ],
   "source": [
    "from sklearn.metrics import precision_score\n",
    "precision = precision_score(y_pred, y_test)\n",
    "\n",
    "print(f'Precision = {precision:.2}')"
   ]
  },
  {
   "cell_type": "markdown",
   "id": "ff6c0ded-c60c-4799-8c11-d016978b669d",
   "metadata": {},
   "source": [
    "#### Recall\n",
    "\n",
    "Recall does answer the following questions:\n",
    "\n",
    "* Out of the points they are labeled positive, how many of them are predicted correctly as positive?\n",
    "* How many relevant items are retieved?\n",
    "\n",
    "Example:\n",
    "\n",
    "* Out of the **sick patients**, how many did we **correctly diagnose** as sick? The value should be **high**!\n",
    "* From all the **spam emails**, how many were **correctly** sent to the **spam folder**? The value can be **low**!\n",
    "\n",
    "$$\n",
    "\\text{Recall} = \\frac{\\text{TP}}{\\text{TP} + \\text{FN}}\n",
    "$$"
   ]
  },
  {
   "cell_type": "code",
   "execution_count": 20,
   "id": "1d1652b0-88d5-4f09-b2ef-c12ef05b5cd2",
   "metadata": {},
   "outputs": [
    {
     "name": "stdout",
     "output_type": "stream",
     "text": [
      "Recall = 0.93\n"
     ]
    }
   ],
   "source": [
    "from sklearn.metrics import recall_score\n",
    "recall = recall_score(y_pred, y_test)\n",
    "\n",
    "print(f'Recall = {recall:.2}')"
   ]
  },
  {
   "cell_type": "code",
   "execution_count": null,
   "id": "4e3820d5-cbc6-45b5-88c5-ef6111eee6a4",
   "metadata": {},
   "outputs": [],
   "source": []
  }
 ],
 "metadata": {
  "kernelspec": {
   "display_name": "Python 3 (ipykernel)",
   "language": "python",
   "name": "python3"
  },
  "language_info": {
   "codemirror_mode": {
    "name": "ipython",
    "version": 3
   },
   "file_extension": ".py",
   "mimetype": "text/x-python",
   "name": "python",
   "nbconvert_exporter": "python",
   "pygments_lexer": "ipython3",
   "version": "3.9.7"
  }
 },
 "nbformat": 4,
 "nbformat_minor": 5
}
