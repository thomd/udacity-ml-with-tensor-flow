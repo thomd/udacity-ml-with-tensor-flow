{
 "cells": [
  {
   "cell_type": "markdown",
   "id": "2d00bc0b-4e32-4dae-ae2e-3e370e2a0270",
   "metadata": {},
   "source": [
    "# Model Evaluation Metrics"
   ]
  },
  {
   "cell_type": "markdown",
   "id": "05702541-93e1-4495-932a-6fcf611d8eab",
   "metadata": {},
   "source": [
    "## Model Testing\n",
    "\n",
    "Always verify your model using **test data**."
   ]
  },
  {
   "cell_type": "code",
   "execution_count": 14,
   "id": "575661c9-8701-4df8-925d-5b2e90c96e9a",
   "metadata": {},
   "outputs": [
    {
     "data": {
      "text/plain": [
       "0.9583333333333334"
      ]
     },
     "execution_count": 14,
     "metadata": {},
     "output_type": "execute_result"
    }
   ],
   "source": [
    "from sklearn.tree import DecisionTreeClassifier\n",
    "from sklearn.metrics import accuracy_score\n",
    "import pandas as pd\n",
    "import numpy as np\n",
    "from sklearn.model_selection import train_test_split\n",
    "\n",
    "data = np.asarray(pd.read_csv('data/testing-data.csv', header=None))\n",
    "X = data[:,0:2]\n",
    "y = data[:,2]\n",
    "\n",
    "X_train, X_test, y_train, y_test = train_test_split(X, y, test_size=0.25, random_state=42)\n",
    "\n",
    "model = DecisionTreeClassifier()\n",
    "model.fit(X_train, y_train)\n",
    "y_pred = model.predict(X_test)\n",
    "acc = model.score(X_test, y_test)\n",
    "\n",
    "acc"
   ]
  },
  {
   "cell_type": "markdown",
   "id": "650de005-1015-43da-b188-eb9ff10221b0",
   "metadata": {},
   "source": [
    "## Confusion Matrix\n",
    "\n",
    "How good is our model?\n",
    "\n",
    "* **Spam**: we don't want **False Positives** but **False Negatives** are Ok, i.e. we want a high **Precision**.\n",
    "* **Sickness**: we don't want **False Negatives** but **False Positives** are Ok, i.e. we want a high **Recall**.\n",
    "\n",
    "### Type 1 and Type 2 Errors\n",
    "\n",
    "Sometimes in the literature, you'll see False Positives and False Negatives as **Type 1** and **Type 2 errors**. \n",
    "\n",
    "* **Type 1 Error** (Error of the first kind, or False Positive): In the medical example, this is when we misdiagnose a healthy patient as sick.\n",
    "* **Type 2 Error** (Error of the second kind, or False Negative): In the medical example, this is when we misdiagnose a sick patient as healthy."
   ]
  },
  {
   "cell_type": "code",
   "execution_count": 15,
   "id": "a2d593e8-2591-4652-b90a-884f502bb7da",
   "metadata": {},
   "outputs": [
    {
     "data": {
      "image/png": "[encoded data removed]",
      "text/plain": [
       "<Figure size 432x288 with 2 Axes>"
      ]
     },
     "metadata": {
      "needs_background": "light"
     },
     "output_type": "display_data"
    }
   ],
   "source": [
    "import seaborn as sns\n",
    "from sklearn.metrics import confusion_matrix\n",
    "\n",
    "cfm = confusion_matrix(y_test, y_pred)\n",
    "\n",
    "group_names = [\"True Positive\", \"False Negative\", \"False Positive\", \"True Negative\"]\n",
    "group_counts = [\"{0:0.0f}\".format(value) for value in cfm.flatten()]\n",
    "group_percentages = [\"{0:.2%}\".format(value) for value in cfm.flatten()/np.sum(cfm)]\n",
    "labels = [f\"{v1}\\n\\n{v2}\\n{v3}\" for v1, v2, v3 in zip(group_names,group_counts,group_percentages)]\n",
    "labels = np.asarray(labels).reshape(2,2)\n",
    "sns.heatmap(cfm, annot=labels, fmt=\"\", cmap='Blues');"
   ]
  },
  {
   "cell_type": "code",
   "execution_count": 102,
   "id": "f29ea4ed-403a-433f-baed-d4b189931d0e",
   "metadata": {},
   "outputs": [
    {
     "data": {
      "text/plain": [
       "array([[3, 1],\n",
       "       [2, 4]])"
      ]
     },
     "execution_count": 102,
     "metadata": {},
     "output_type": "execute_result"
    }
   ],
   "source": [
    "from sklearn.metrics import confusion_matrix\n",
    "\n",
    "# positive = 1, negative = 0\n",
    "predicted = [0, 0, 1, 1, 0, 1, 0 ,1, 1, 0]      # y_pred\n",
    "actual    = [1, 0, 1, 1, 0, 1, 1, 0, 1, 0]      # y_true\n",
    "\n",
    "confusion_matrix(actual, predicted)"
   ]
  },
  {
   "cell_type": "markdown",
   "id": "843c31e2-d910-49a7-9bbd-a36d475aa391",
   "metadata": {},
   "source": [
    "## Accuracy\n",
    "\n",
    "Out of all the observations, **how many** did we classify **correctly**?\n",
    "\n",
    "$$\n",
    "\\text{Accuracy} = \\frac{\\text{TP} + \\text{TN}}{\\text{TP} + \\text{FN} + \\text{FP} + \\text{TN}}\n",
    "$$"
   ]
  },
  {
   "cell_type": "code",
   "execution_count": 41,
   "id": "218d5474-703e-41fc-99a2-faaa7cbdb634",
   "metadata": {},
   "outputs": [
    {
     "name": "stdout",
     "output_type": "stream",
     "text": [
      "Accuracy = 0.96\n"
     ]
    }
   ],
   "source": [
    "from sklearn.metrics import accuracy_score\n",
    "acc = accuracy_score(y_test, y_pred)\n",
    "\n",
    "print(f'Accuracy = {acc:.2}')"
   ]
  },
  {
   "cell_type": "code",
   "execution_count": 144,
   "id": "63f07f69-30e1-44f1-9609-e3a40c897c6c",
   "metadata": {},
   "outputs": [
    {
     "name": "stdout",
     "output_type": "stream",
     "text": [
      "Accuracy = 0.7\n",
      "Accuracy = 0.7\n"
     ]
    }
   ],
   "source": [
    "# positive = 1, negative = 0\n",
    "predicted = [0, 0, 1, 1, 0, 1, 0 ,1, 1, 0]      # y_pred\n",
    "actual    = [1, 0, 1, 1, 0, 1, 1, 0, 1, 0]      # y_true\n",
    "\n",
    "tp = 4\n",
    "tn = 3\n",
    "fn = 2\n",
    "fp = 1\n",
    "\n",
    "accuracy = (tp + tn) / (tp + fn + fp + tn)\n",
    "\n",
    "print(f'Accuracy = {accuracy_score(actual, predicted):.2}')\n",
    "\n",
    "print(f'Accuracy = {accuracy:.2}')"
   ]
  },
  {
   "cell_type": "markdown",
   "id": "b627ea9b-6042-401d-a8d4-82e74234d9f7",
   "metadata": {},
   "source": [
    "### Accuracy Paradox\n",
    "\n",
    "If we have **imbalanced classes**, then we do **not** want to use **accuracy**.\n",
    "\n",
    "Supposed a population of **10000 people** and **1 is actually sick**. A medical test results in the following **confusion matrix**:"
   ]
  },
  {
   "cell_type": "code",
   "execution_count": 156,
   "id": "3940a1a2-e177-43a4-907f-e698dc5b54de",
   "metadata": {},
   "outputs": [
    {
     "data": {
      "text/html": [
       "<div>\n",
       "<style scoped>\n",
       "    .dataframe tbody tr th:only-of-type {\n",
       "        vertical-align: middle;\n",
       "    }\n",
       "\n",
       "    .dataframe tbody tr th {\n",
       "        vertical-align: top;\n",
       "    }\n",
       "\n",
       "    .dataframe thead th {\n",
       "        text-align: right;\n",
       "    }\n",
       "</style>\n",
       "<table border=\"1\" class=\"dataframe\">\n",
       "  <thead>\n",
       "    <tr style=\"text-align: right;\">\n",
       "      <th>predicted</th>\n",
       "      <th>is sick</th>\n",
       "      <th>not sick</th>\n",
       "    </tr>\n",
       "    <tr>\n",
       "      <th>actual</th>\n",
       "      <th></th>\n",
       "      <th></th>\n",
       "    </tr>\n",
       "  </thead>\n",
       "  <tbody>\n",
       "    <tr>\n",
       "      <th>is sick</th>\n",
       "      <td>1</td>\n",
       "      <td>0</td>\n",
       "    </tr>\n",
       "    <tr>\n",
       "      <th>not sick</th>\n",
       "      <td>49</td>\n",
       "      <td>9950</td>\n",
       "    </tr>\n",
       "  </tbody>\n",
       "</table>\n",
       "</div>"
      ],
      "text/plain": [
       "predicted is sick not sick\n",
       "actual                    \n",
       "is sick         1        0\n",
       "not sick       49     9950"
      ]
     },
     "execution_count": 156,
     "metadata": {},
     "output_type": "execute_result"
    }
   ],
   "source": [
    "arr = np.array([['is sick', 'is sick', 1], ['is sick', 'not sick', 0], ['not sick', 'is sick', 49], ['not sick', 'not sick', 9950]])\n",
    "df = pd.DataFrame(arr, columns=['actual', 'predicted', 'count'])\n",
    "med_test = df.pivot('actual', 'predicted', 'count')\n",
    "med_test"
   ]
  },
  {
   "cell_type": "code",
   "execution_count": 157,
   "id": "ea83703b-6141-4e21-a016-989d2a023357",
   "metadata": {},
   "outputs": [
    {
     "name": "stdout",
     "output_type": "stream",
     "text": [
      "Accuracy = 0.995\n"
     ]
    }
   ],
   "source": [
    "tp = int(med_test['is sick']['is sick'])\n",
    "tn = int(med_test['not sick']['not sick'])\n",
    "fp = int(med_test['is sick']['not sick'])\n",
    "fn = int(med_test['not sick']['is sick'])\n",
    "\n",
    "accuracy = (tp + tn) / (tp + fn + fp + tn)\n",
    "\n",
    "print(f'Accuracy = {accuracy:.3}')"
   ]
  },
  {
   "cell_type": "markdown",
   "id": "bcfa2db0-0836-42aa-826d-d79c88aba14e",
   "metadata": {},
   "source": [
    "Even though we have a **99,5%** accuracy, **49 out of 50** positive **predictions are incorrect**."
   ]
  },
  {
   "cell_type": "code",
   "execution_count": 160,
   "id": "f14c4343-aa1b-41f8-a211-f2d5b014555b",
   "metadata": {},
   "outputs": [
    {
     "name": "stdout",
     "output_type": "stream",
     "text": [
      "Precision = 0.02\n",
      "Recall = 1.0\n",
      "F1 = 0.039\n"
     ]
    }
   ],
   "source": [
    "precision = tp / (tp + fp)\n",
    "recall = tp / (tp + fn)\n",
    "f1 = 2 * precision * recall / (precision + recall)\n",
    "\n",
    "print(f'Precision = {precision:.2}')\n",
    "print(f'Recall = {recall:.2}')\n",
    "print(f'F1 = {f1:.2}')"
   ]
  },
  {
   "cell_type": "markdown",
   "id": "f480ef13-d2d8-42e3-b60e-766a4a7b9188",
   "metadata": {},
   "source": [
    "The **precission** of **2%** revelas this **poor performance**."
   ]
  },
  {
   "cell_type": "markdown",
   "id": "5b1ba179-17f7-4072-bbde-6e3185a16001",
   "metadata": {},
   "source": [
    "## Precision\n",
    "\n",
    "Precision answeres the following questions:\n",
    "\n",
    "* Out of the points we've predicted to be positive, how many are correct?\n",
    "* How many retrieved items are relevant?\n",
    "\n",
    "Examples:\n",
    "\n",
    "* Out of the patients we **diagnosed** with an illness, how many did we classify correctly as **sick**? $\\implies$ Precision can be **low**!\n",
    "* Out of all the **emails** sent to the **spam folder**, how many were actually **spam**? $\\implies$ Precision should be **high**!\n",
    "\n",
    "$$\n",
    "\\text{Precision} = \\frac{\\text{TP}}{\\text{TP} + \\text{FP}} = \\frac{\\text{True Positive}}{\\text{Predicted Positive}}\n",
    "$$"
   ]
  },
  {
   "cell_type": "code",
   "execution_count": 60,
   "id": "efb9ae2a-0e4d-4c9d-98d5-4ddb6ac508ac",
   "metadata": {},
   "outputs": [
    {
     "name": "stdout",
     "output_type": "stream",
     "text": [
      "Precision = 0.93\n"
     ]
    }
   ],
   "source": [
    "from sklearn.metrics import precision_score\n",
    "precision = precision_score(y_test, y_pred)\n",
    "\n",
    "print(f'Precision = {precision:.2}')"
   ]
  },
  {
   "cell_type": "code",
   "execution_count": 100,
   "id": "22e25e59-a26a-416b-95ed-0dfc27d9e962",
   "metadata": {},
   "outputs": [
    {
     "name": "stdout",
     "output_type": "stream",
     "text": [
      "Precision = 0.8\n",
      "Precision = 0.8\n",
      "Precision = 0.8\n"
     ]
    }
   ],
   "source": [
    "# positive = 1, negative = 0\n",
    "predicted = [0, 0, 1, 1, 0, 1, 0 ,1, 1, 0]      # y_pred\n",
    "actual    = [1, 0, 1, 1, 0, 1, 1, 0, 1, 0]      # y_tcrue\n",
    "\n",
    "print(f'Precision = {precision_score(actual, predicted):.2}')\n",
    "\n",
    "\n",
    "\n",
    "tp = len(np.intersect1d(np.where(np.array(predicted)==1), np.where(np.array(actual)==1)))\n",
    "fp = len(np.intersect1d(np.where(np.array(predicted)==1), np.where(np.array(actual)==0)))\n",
    "\n",
    "precision = tp / (tp + fp)\n",
    "\n",
    "print(f'Precision = {precision:.2}')\n",
    "\n",
    "\n",
    "\n",
    "tp = len(np.intersect1d(np.where(np.array(predicted)==1), np.where(np.array(actual)==1)))\n",
    "pp  = np.sum((np.array(predicted)==1))   # predicted positive\n",
    "\n",
    "precision = tp / pp\n",
    "\n",
    "print(f'Precision = {precision:.2}')"
   ]
  },
  {
   "cell_type": "markdown",
   "id": "c8c76771-e5d0-4254-b447-58ca0414f87f",
   "metadata": {},
   "source": [
    "In the field of **information retrieval**, precision is the fraction of **retrieved documents** that are **relevant to the query**:\n",
    "\n",
    "$$\n",
    "\\text{Precision} = \\frac {\\text{Relevant Documents} \\cap \\text{Retrieved Documents}}{\\text{Retrieved Documents}}\n",
    "$$\n",
    "\n",
    "For example, for a text search on a set of documents, **precision** is the number of **correct results** divided by the number of **all returned** results."
   ]
  },
  {
   "cell_type": "markdown",
   "id": "10200b6d-60b5-4fd5-981d-53e460b501a2",
   "metadata": {},
   "source": [
    "### Use Case\n",
    "\n",
    "Use **precision** when we identify something as positive, we want to be sure it is truly positive."
   ]
  },
  {
   "cell_type": "markdown",
   "id": "ff6c0ded-c60c-4799-8c11-d016978b669d",
   "metadata": {},
   "source": [
    "## Recall / Sensitivity / True Positive Rate\n",
    "\n",
    "Recall does answer the following questions:\n",
    "\n",
    "* Out of the points they are labeled positive, how many of them are predicted correctly as positive?\n",
    "* How many relevant items are retieved?\n",
    "\n",
    "Example:\n",
    "\n",
    "* Out of the **sick patients**, how many did we **correctly diagnose** as sick? $\\implies$ Recall should be **high**!\n",
    "* From all the **spam emails**, how many were **correctly** sent to the **spam folder**? $\\implies$ Recall can be **low**!\n",
    "\n",
    "$$\n",
    "\\text{Recall} = \\frac{\\text{TP}}{\\text{TP} + \\text{FN}} = \\frac{\\text{True Positive}}{\\text{Actual Positive}}\n",
    "$$"
   ]
  },
  {
   "cell_type": "code",
   "execution_count": 93,
   "id": "1d1652b0-88d5-4f09-b2ef-c12ef05b5cd2",
   "metadata": {},
   "outputs": [
    {
     "name": "stdout",
     "output_type": "stream",
     "text": [
      "Recall = 1.0\n"
     ]
    }
   ],
   "source": [
    "from sklearn.metrics import recall_score\n",
    "recall = recall_score(y_test, y_pred)\n",
    "\n",
    "print(f'Recall = {recall:.2}')"
   ]
  },
  {
   "cell_type": "code",
   "execution_count": 152,
   "id": "09a2c42f-6c19-4a96-866e-6634c8e5d62f",
   "metadata": {},
   "outputs": [
    {
     "name": "stdout",
     "output_type": "stream",
     "text": [
      "Recall = 0.67\n",
      "Recall = 0.67\n",
      "Recall = 0.67\n"
     ]
    }
   ],
   "source": [
    "# positive = 1, negative = 0\n",
    "predicted = [0, 0, 1, 1, 0, 1, 0 ,1, 1, 0]      # y_pred\n",
    "actual    = [1, 0, 1, 1, 0, 1, 1, 0, 1, 0]      # y_tcrue\n",
    "\n",
    "print(f'Recall = {recall_score(actual, predicted):.2}')\n",
    "\n",
    "\n",
    "tp = len(np.intersect1d(np.where(np.array(predicted)==1), np.where(np.array(actual)==1)))\n",
    "fn = len(np.intersect1d(np.where(np.array(predicted)==0), np.where(np.array(actual)==1)))\n",
    "\n",
    "recall = tp / (tp + fn)\n",
    "\n",
    "print(f'Recall = {recall:.2}')\n",
    "\n",
    "\n",
    "tp = len(np.intersect1d(np.where(np.array(predicted)==1), np.where(np.array(actual)==1)))\n",
    "ap  = np.sum((np.array(actual)==1))    # actual positive\n",
    "\n",
    "recall = tp / ap\n",
    "\n",
    "print(f'Recall = {recall:.2}')"
   ]
  },
  {
   "cell_type": "markdown",
   "id": "e97e92c2-0add-4bf3-a983-26698f0296fa",
   "metadata": {},
   "source": [
    "In **information retrieval**, recall is the fraction of the **relevant documents** that are **successfully retrieved**.\n",
    "\n",
    "$$\n",
    "\\text{Recall} = \\frac {\\text{Relevant Documents} \\cap \\text{Retrieved Documents}}{\\text{Relevant Documents}}\n",
    "$$\n",
    "\n",
    "In **binary classification**, recall is called **sensitivity**. It can be viewed as the probability that a relevant document is retrieved by the query.\n",
    "\n",
    "It is **trivial** to achieve recall of **100%** by returning all documents in response to any query. Therefore, **recall alone is not enough**. One needs to measure the number of non-relevant documents also, for example by also computing the precision."
   ]
  },
  {
   "cell_type": "markdown",
   "id": "1400f88e-2407-4ed1-a8cb-a6dec80350a1",
   "metadata": {},
   "source": [
    "### Use Case\n",
    "\n",
    "Use **recall** if we really want to make sure the positive cases are all caught even if that means we identify some negatives as positives."
   ]
  },
  {
   "cell_type": "markdown",
   "id": "0c0c0843-c188-42d2-ac5c-3a0475c57e76",
   "metadata": {},
   "source": [
    "## Specificity / True Negative Rate\n",
    "\n",
    "Specificity tells us what proportion of the negative class got correctly classified.\n",
    "\n",
    "$$\n",
    "\\text{Specificity} = \\frac{\\text{TN}}{\\text{TN} + \\text{FP}}\n",
    "$$\n",
    "\n",
    "Taking the same example as in Sensitivity, Specificity would mean determining the proportion of healthy people who were correctly identified by the model."
   ]
  },
  {
   "cell_type": "markdown",
   "id": "1f0f8691-befc-49e4-a94c-d2efaf2d4d97",
   "metadata": {},
   "source": [
    "## $\\text{F}_1$ Score\n",
    "\n",
    "The $\\text{F}_1$ Score combines **precision** $P$ and **recall** $R$ using the **harmonic mean**:\n",
    "\n",
    "$$\n",
    "\\begin{align}\n",
    "\\text{F}_1 &= 2 \\cdot \\frac{\\text{P} \\cdot \\text{R}}{\\text{P} + \\text{R}} \\\\[8pt]\n",
    "&= \\frac{2}{\\frac{1}{P} + \\frac{1}{R}}\n",
    "\\end{align}\n",
    "$$\n",
    "\n",
    "The $F_1$ Score **wights** the **precision** $P$ and the **recall** $R$ the **same**."
   ]
  },
  {
   "cell_type": "code",
   "execution_count": 95,
   "id": "4f94284d-683c-4e67-a697-d72e80e39af4",
   "metadata": {},
   "outputs": [
    {
     "name": "stdout",
     "output_type": "stream",
     "text": [
      "F1 = 0.97\n"
     ]
    }
   ],
   "source": [
    "from sklearn.metrics import f1_score\n",
    "f1 = f1_score(y_test, y_pred)\n",
    "\n",
    "print(f'F1 = {f1:.2}')"
   ]
  },
  {
   "cell_type": "code",
   "execution_count": 101,
   "id": "4d12c823-7be0-4fd8-84c1-ef2675061931",
   "metadata": {},
   "outputs": [
    {
     "name": "stdout",
     "output_type": "stream",
     "text": [
      "F1 = 0.73\n",
      "F1 = 0.73\n"
     ]
    }
   ],
   "source": [
    "# positive = 1, negative = 0\n",
    "predicted = [0, 0, 1, 1, 0, 1, 0 ,1, 1, 0]      # y_pred\n",
    "actual    = [1, 0, 1, 1, 0, 1, 1, 0, 1, 0]      # y_tcrue\n",
    "\n",
    "print(f'F1 = {f1_score(actual, predicted):.2}')\n",
    "\n",
    "tp = len(np.intersect1d(np.where(np.array(predicted)==1), np.where(np.array(actual)==1)))\n",
    "fp = len(np.intersect1d(np.where(np.array(predicted)==1), np.where(np.array(actual)==0)))\n",
    "p = tp / (tp + fp)\n",
    "\n",
    "tp = len(np.intersect1d(np.where(np.array(predicted)==1), np.where(np.array(actual)==1)))\n",
    "fn = len(np.intersect1d(np.where(np.array(predicted)==0), np.where(np.array(actual)==1)))\n",
    "r = tp / (tp + fn)\n",
    "\n",
    "\n",
    "f1 = 2 * p * r / (p + r)\n",
    "\n",
    "print(f'F1 = {f1:.2}')"
   ]
  },
  {
   "cell_type": "markdown",
   "id": "7e01796f-9b5e-4a40-8447-a93f67e24562",
   "metadata": {},
   "source": [
    "### Use Case\n",
    "\n",
    "Use **F1-Score** if we care equally about identifying positive and negative cases"
   ]
  },
  {
   "cell_type": "markdown",
   "id": "5cba113b-b005-4421-b24f-b8660c11b56e",
   "metadata": {},
   "source": [
    "## $\\text{F}_\\beta$ Score\n",
    "\n",
    "The $\\text{F}_\\beta$ Score allows to have different weights on **precision** $P$ and **recall** $R$.\n",
    "\n",
    "For positive values of $\\beta$, the $\\text{F}_\\beta$ Score is:\n",
    "\n",
    "$$\n",
    "\\text{F}_\\beta = (1 + \\beta^2) \\cdot \\frac{\\text{P} \\cdot \\text{R}}{\\beta^2 \\cdot \\text{P} + \\text{R}}\n",
    "$$\n",
    "\n",
    "For example, $\\text{F}_2$ weights the **recall** 4 times as high as the **precision**. \n",
    "\n",
    "Whereas $\\text{F}_{0.5}$ weights **precision** 4 times as high as **recall**.\n",
    "\n",
    "### Use Cases\n",
    "\n",
    "Use F1-Score if we care equally about identifying positive and negative cases\n",
    "\n",
    "If you decide that you care more about precision, you should move beta closer to 0. If you decide you care more about recall, you should move beta towards infinity.\n",
    "\n",
    "### Examples\n",
    "\n",
    "Given the following three models, which one should have an $\\text{F}_\\beta$ score of $2$, $1$, and $0.5$?:\n",
    "\n",
    "1. Detecting malfunctioning parts in a spaceship: For the spaceship model, we can't really afford any malfunctioning parts, and it's ok if we overcheck some of the parts that are working well. Therefore, this is a high recall model, so we associate it with $\\beta = 2$.\n",
    "\n",
    "2. Sending phone notifications about videos a user may like: For the notifications model, since it's free to send them, we won't get harmed too much if we send them to more people than we need to. But we also shouldn't overdo it, since it will annoy the users. We also would like to find as many interested users as we can. Thus, this is a model which should have a decent precision and a decent recall. $\\beta = 1$ should work here.\n",
    "\n",
    "3. Sending promotional material in the mail to potential clients: For the Promotional Material model, since it costs us to send the material, we really don't want to send it to many people that won't be interested. Thus, this is a high precision model. Thus, $\\beta = 0.5$. will work here."
   ]
  },
  {
   "cell_type": "markdown",
   "id": "722aa52b-81b6-4750-b230-e65f953e2b3e",
   "metadata": {},
   "source": [
    "### Boundaries in the F-beta score\n",
    "\n",
    "If we set $\\beta = 0$, we get\n",
    "\n",
    "$$\n",
    "\\text{F}_0 = (1 + 0^2) \\cdot \\frac{\\text{Precision} \\cdot \\text{Recall}}{0 \\cdot \\text{Precision} + \\text{Recall}} = \\frac{\\text{Precision} \\cdot \\text{Recall}}{\\text{Recall}} = \\text{Precision}\n",
    "$$\n",
    "\n",
    "Therefore, the **minimum value** of $\\beta$ is zero, and at this value, we get the **precision**.\n",
    "\n",
    "If $N$ is very large, then\n",
    "\n",
    "$$\n",
    "\\text{F}_\\beta = (1 + N^2) \\cdot \\frac{\\text{Precision} \\cdot \\text{Recall}}{N^2 \\cdot \\text{Precision} + \\text{Recall}} = \\frac{\\text{Precision} \\cdot \\text{Recall}}{\\frac{N^2}{1+N^2}\\text{Precision} + \\frac{1}{1+N^2}\\text{Recall}}\n",
    "$$\n",
    "\n",
    "If $N$ goes to **infinity**, we can see that $\\frac{1}{1+N^2}$ goes to $0$, and $\\frac{N^2}{1+N^2}$ goes to $1$.\n",
    "\n",
    "Therefore, if we take the limit, we have\n",
    "\n",
    "$$\n",
    "{\\lim_{N\\rightarrow \\infty}} \\text{F}_N = \\frac{\\text{Precision} \\cdot \\text{Recall}}{1 \\cdot \\text{Precision} + 0 \\cdot \\text{Recall}} = \\text{Recall}\n",
    "$$\n",
    "\n",
    "Thus, to conclude, the **boundaries** of beta are between $0$ and $\\infty$.\n",
    "\n",
    "* If $\\beta = 0$, then we get **precision**.\n",
    "* If $\\beta = \\infty$, then we get **recall**.\n",
    "* For other values of $\\beta$, if they are close to $0$, we get something **close to precision**, if they are **large** numbers, then we get something **close to recall**, and if $\\beta = 1$, then we get the **harmonic mean of precision and recall**."
   ]
  },
  {
   "cell_type": "markdown",
   "id": "e66b235e-25dc-4f69-8d8f-43f6ec08fc0c",
   "metadata": {},
   "source": [
    "## Receiver Operating Characteristic (ROC)\n",
    "\n",
    "The ROC curve is an **evaluation metric** for **binary classification** problems. It is a probability curve that plots the **TPR** (y-axis) against **FPR** (x-axis) at various **threshold values** and essentially separates the **'signal'** from the **'noise'**. \n",
    "\n",
    "### Area Under the Curve (AUC)\n",
    "\n",
    "The AUC is the measure of the **ability** of a classifier to **distinguish between classes** and is used as a summary of the ROC curve. \n",
    "\n",
    "* When $\\text{AUC} = 1$, then the classifier is able to perfectly distinguish between all the Positive and the Negative class points correctly. \n",
    "\n",
    "* When $0.5 < \\text{AUC} < 1$, there is a high chance that the classifier will be able to distinguish the positive class values from the negative class values. This is so because the classifier is able to detect more numbers of True positives and True negatives than False negatives and False positives.\n",
    "\n",
    "* When $\\text{AUC} = 0.5$, then the classifier is not able to distinguish between Positive and Negative class points. Meaning either the classifier is predicting random class or constant class for all the data points.\n",
    "\n",
    "* If $\\text{AUC} = 0$, then the classifier would be predicting all Negatives as Positives, and all Positives as Negatives.\n",
    "\n",
    "The higher the AUC, the better the performance of the model at distinguishing between the positive and negative classes.\n",
    "\n",
    "### Purposes of ROC Curve\n",
    "\n",
    "The ROC curve serves **two purposes**:\n",
    "\n",
    "1. **Compare models**: We can compare models by displaying their ROC curves. Then you can choose which model performs best. To choose it, it is necessary to caclulate the area under the curve: **The larger the AUC, the better our model**.\n",
    "\n",
    "2. **Choose an optimal threshold**: The ideal threshold is the **best compromise** between **sensitivity** and **specificity**. The ideal threshold corresponds to the **point** both **closest to the ideal** and at the same time **farthest from the diagonal**."
   ]
  },
  {
   "cell_type": "markdown",
   "id": "e7fa1904-c154-477d-9889-75e9a7e5bd5a",
   "metadata": {},
   "source": [
    "### Example\n",
    "\n",
    "We create arbitrary data using the `make_classification` method:"
   ]
  },
  {
   "cell_type": "code",
   "execution_count": 43,
   "id": "13d016ed-0886-42d9-9d86-96fc1d70a33a",
   "metadata": {},
   "outputs": [],
   "source": [
    "from sklearn.datasets import make_classification\n",
    "from sklearn.model_selection import train_test_split\n",
    "\n",
    "# generate two class dataset\n",
    "X, y = make_classification(n_samples=1000, n_classes=2, n_features=20, random_state=27)\n",
    "\n",
    "# split into train-test sets\n",
    "X_train, X_test, y_train, y_test = train_test_split(X, y, test_size=0.3, random_state=27)"
   ]
  },
  {
   "cell_type": "markdown",
   "id": "fccc9b25-8925-4e19-b328-473321e4e40d",
   "metadata": {},
   "source": [
    "will test the performance of two classifiers on this dataset:"
   ]
  },
  {
   "cell_type": "code",
   "execution_count": 44,
   "id": "d0555115-10fd-475c-9e4a-e28c1ae50e8e",
   "metadata": {},
   "outputs": [],
   "source": [
    "# train models\n",
    "from sklearn.linear_model import LogisticRegression\n",
    "from sklearn.neighbors import KNeighborsClassifier\n",
    "\n",
    "# logistic regression\n",
    "model1 = LogisticRegression()\n",
    "\n",
    "# knn\n",
    "model2 = KNeighborsClassifier(n_neighbors=4)\n",
    "\n",
    "# fit model\n",
    "model1.fit(X_train, y_train)\n",
    "model2.fit(X_train, y_train)\n",
    "\n",
    "# predict probabilities\n",
    "pred_prob1 = model1.predict_proba(X_test)\n",
    "pred_prob2 = model2.predict_proba(X_test)"
   ]
  },
  {
   "cell_type": "markdown",
   "id": "fcaeec61-82c1-4a57-be75-b84d61d5f2cd",
   "metadata": {},
   "source": [
    "We use the method `roc_curve()` to computes the **ROC** for your classifier! It returns the **FPR**, **TPR**, and **threshold** values:"
   ]
  },
  {
   "cell_type": "code",
   "execution_count": 45,
   "id": "493461b4-363d-46e6-a99e-69c3183336ec",
   "metadata": {},
   "outputs": [],
   "source": [
    "from sklearn.metrics import roc_curve\n",
    "\n",
    "# roc curve for models\n",
    "fpr1, tpr1, thresh1 = roc_curve(y_test, pred_prob1[:,1], pos_label=1)\n",
    "fpr2, tpr2, thresh2 = roc_curve(y_test, pred_prob2[:,1], pos_label=1)\n",
    "\n",
    "# roc curve for tpr = fpr \n",
    "random_probs = [0 for i in range(len(y_test))]\n",
    "p_fpr, p_tpr, _ = roc_curve(y_test, random_probs, pos_label=1)"
   ]
  },
  {
   "cell_type": "markdown",
   "id": "891a8b13-0745-4041-b980-6daed9cf6c33",
   "metadata": {},
   "source": [
    "The **AUC score** can be computed using the `roc_auc_score()` method:"
   ]
  },
  {
   "cell_type": "code",
   "execution_count": 46,
   "id": "0774870f-2a39-4561-a411-440a2862b891",
   "metadata": {},
   "outputs": [
    {
     "name": "stdout",
     "output_type": "stream",
     "text": [
      "0.9762374461979914 0.9233769727403157\n"
     ]
    }
   ],
   "source": [
    "from sklearn.metrics import roc_auc_score\n",
    "\n",
    "# auc scores\n",
    "auc_score1 = roc_auc_score(y_test, pred_prob1[:,1])\n",
    "auc_score2 = roc_auc_score(y_test, pred_prob2[:,1])\n",
    "\n",
    "print(auc_score1, auc_score2)"
   ]
  },
  {
   "cell_type": "code",
   "execution_count": 47,
   "id": "b9822def-c6fd-4126-a9fd-d8c15041427c",
   "metadata": {},
   "outputs": [
    {
     "data": {
      "image/png": "[encoded data removed]",
      "text/plain": [
       "<Figure size 432x288 with 1 Axes>"
      ]
     },
     "metadata": {
      "needs_background": "light"
     },
     "output_type": "display_data"
    }
   ],
   "source": [
    "import matplotlib.pyplot as plt\n",
    "\n",
    "plt.plot(fpr1, tpr1, linestyle='--',color='orange', label='Logistic Regression')\n",
    "plt.plot(fpr2, tpr2, linestyle='--',color='green', label='KNN')\n",
    "plt.plot(p_fpr, p_tpr, linestyle='--', color='blue')\n",
    "plt.title('ROC curve', fontsize=12)\n",
    "plt.xlabel('FPR', fontsize=14)\n",
    "plt.ylabel('TPR', fontsize=14)\n",
    "plt.legend();"
   ]
  },
  {
   "cell_type": "markdown",
   "id": "837c01ea-c890-434d-96f7-8d07252717db",
   "metadata": {},
   "source": [
    "## Regression Metrics"
   ]
  },
  {
   "cell_type": "markdown",
   "id": "5831b9e7-a120-47be-b3dc-cb232d445d7b",
   "metadata": {},
   "source": [
    "## Mean Absolute Error\n",
    "\n",
    "The mean absolute error MAE measures the **average of the residuals** in the dataset:\n",
    "\n",
    "$$\n",
    "\\text{MAE} = \\frac{1}{N} \\sum_{i=1}^{N} |y_i - \\hat{y}|\n",
    "$$\n",
    "\n",
    "The problem with the **MAE** is that it is **not differentiable**."
   ]
  },
  {
   "cell_type": "code",
   "execution_count": 176,
   "id": "276e7723-fc6c-4bb4-a6e9-b25a5e0aa246",
   "metadata": {},
   "outputs": [
    {
     "data": {
      "image/png": "[encoded data removed]",
      "text/plain": [
       "<Figure size 432x288 with 1 Axes>"
      ]
     },
     "metadata": {
      "needs_background": "light"
     },
     "output_type": "display_data"
    }
   ],
   "source": [
    "from sklearn import datasets\n",
    "from sklearn.metrics import mean_absolute_error\n",
    "from sklearn.linear_model import LinearRegression\n",
    "\n",
    "X, y = datasets.make_regression(n_samples=100, n_features=1, n_informative=1, bias=100.0, noise=20, random_state=0)\n",
    "sns.scatterplot(x=X[:,0], y=y);"
   ]
  },
  {
   "cell_type": "code",
   "execution_count": 179,
   "id": "f3749d4e-94fc-4565-86b6-c0f570e9c292",
   "metadata": {},
   "outputs": [],
   "source": [
    "regressor = LinearRegression()\n",
    "regressor.fit(X, y)\n",
    "\n",
    "guesses = regressor.predict(X)"
   ]
  },
  {
   "cell_type": "code",
   "execution_count": 183,
   "id": "489bf05f-e73b-4453-9ba8-60e948fdb1e9",
   "metadata": {},
   "outputs": [
    {
     "data": {
      "image/png": "[encoded data removed]",
      "text/plain": [
       "<Figure size 432x288 with 1 Axes>"
      ]
     },
     "metadata": {
      "needs_background": "light"
     },
     "output_type": "display_data"
    }
   ],
   "source": [
    "sns.scatterplot(x=X[:,0], y=y)\n",
    "sns.scatterplot(x=X[:,0], y=guesses);"
   ]
  },
  {
   "cell_type": "code",
   "execution_count": 189,
   "id": "adb835fc-0fa7-43cd-8828-dbdc70365287",
   "metadata": {},
   "outputs": [
    {
     "name": "stdout",
     "output_type": "stream",
     "text": [
      "MAE = 17.548\n"
     ]
    }
   ],
   "source": [
    "error = mean_absolute_error(y, guesses)\n",
    "print(f'MAE = {error:.3f}')"
   ]
  },
  {
   "cell_type": "markdown",
   "id": "61317a87-3860-41b0-816f-1a38c3df3c61",
   "metadata": {},
   "source": [
    "## Mean Squared Error\n",
    "\n",
    "The mean squared error MSE measures the **variance of the residuals**:\n",
    "\n",
    "$$\n",
    "\\text{MSE} = \\frac{1}{N} \\sum_{i=1}^{N} (y_i - \\hat{y})^2\n",
    "$$"
   ]
  },
  {
   "cell_type": "code",
   "execution_count": 197,
   "id": "12672820-d95e-45c6-8248-ddc06c1095ae",
   "metadata": {},
   "outputs": [
    {
     "name": "stdout",
     "output_type": "stream",
     "text": [
      "MSE = 456.686\n"
     ]
    }
   ],
   "source": [
    "from sklearn.metrics import mean_squared_error\n",
    "\n",
    "error = mean_squared_error(y, guesses)\n",
    "print(f'MSE = {error:.3f}')"
   ]
  },
  {
   "cell_type": "markdown",
   "id": "5badf57c-5886-4a58-9ecf-79a2290e2f93",
   "metadata": {},
   "source": [
    "## R2 Score\n",
    "\n",
    "The R2 Score represents the proportion of the variance in the dependent variable which is explained by the linear regression model.\n",
    "\n",
    "Given a **simple model**\n",
    "\n",
    "$$\n",
    "\\text{Simple Model} = \\frac{1}{N} \\sum_{i=1}^{N} (y_i - \\bar{y})^2\n",
    "$$\n",
    "\n",
    "we calculate the R2 as\n",
    "\n",
    "$$\n",
    "\\begin{align}\n",
    "\\text{R2} &= 1 - \\frac{\\text{MSE}}{\\text{Simple Model}} \\\\[6pt]\n",
    "&= 1 - \\frac{\\sum (y_i - \\hat{y})^2}{\\sum (y_i - \\bar{y})^2}\n",
    "\\end{align}\n",
    "$$\n",
    "\n",
    "* **Bad Model**: The errors should be similar. The **R2** score should be close to **0**.\n",
    "\n",
    "* **Good Model**: The MSE for the linear regression model should be a lot smaller than the MSE for the simple model. The **R2** score should be close to **1**.\n",
    "\n"
   ]
  },
  {
   "cell_type": "code",
   "execution_count": 198,
   "id": "64f14744-fc9c-45a1-86d1-54b6c63ccccc",
   "metadata": {},
   "outputs": [
    {
     "name": "stdout",
     "output_type": "stream",
     "text": [
      "R2 = 0.803\n"
     ]
    }
   ],
   "source": [
    "from sklearn.metrics import r2_score\n",
    "\n",
    "score = r2_score(y, guesses)\n",
    "print(f'R2 = {score:.3f}')"
   ]
  },
  {
   "cell_type": "code",
   "execution_count": null,
   "id": "e84909c3-107e-452b-9ded-6a9cbace1401",
   "metadata": {},
   "outputs": [],
   "source": []
  }
 ],
 "metadata": {
  "kernelspec": {
   "display_name": "Python 3 (ipykernel)",
   "language": "python",
   "name": "python3"
  },
  "language_info": {
   "codemirror_mode": {
    "name": "ipython",
    "version": 3
   },
   "file_extension": ".py",
   "mimetype": "text/x-python",
   "name": "python",
   "nbconvert_exporter": "python",
   "pygments_lexer": "ipython3",
   "version": "3.10.2"
  }
 },
 "nbformat": 4,
 "nbformat_minor": 5
}
